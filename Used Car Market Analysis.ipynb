{
 "cells": [
  {
   "cell_type": "markdown",
   "id": "3f8bdd7a-7009-4de9-abbe-64cfa15be0f5",
   "metadata": {},
   "source": [
    "# U.S. Used-Toyota Market Analysis\n",
    "## Situation & Objectives\n",
    "This project examined the U.S. used-Toyota vehicle market to:  \n",
    "- Identify environmental factors impacting sales.  \n",
    "- Describe current industry structure and market leaders.  \n",
    "- Forecast how the market may evolve over the next 5–10 years.  \n",
    "- Recommend geographic, model, and consumer strategies for expansion.  "
   ]
  },
  {
   "cell_type": "markdown",
   "id": "1d3ce403-c472-44e2-be58-1ad7206537fb",
   "metadata": {},
   "source": [
    "## Load Required Libraries"
   ]
  },
  {
   "cell_type": "code",
   "execution_count": null,
   "id": "9fdadb17-139b-401c-a66b-7a086e792b58",
   "metadata": {},
   "outputs": [],
   "source": [
    "library(tidyverse)  \n",
    "library(lubridate)  \n",
    "library(ggplot2)    \n",
    "library(caret)      \n",
    "library(cluster)    \n",
    "library(forecast)   \n",
    "library(factoextra) "
   ]
  },
  {
   "cell_type": "markdown",
   "id": "eb122f9b-79eb-4aae-8129-f1702dbc4b10",
   "metadata": {},
   "source": [
    "## Import and Verify Data"
   ]
  },
  {
   "cell_type": "code",
   "execution_count": 2,
   "id": "7761fada-6243-4487-af30-784103cf3e23",
   "metadata": {},
   "outputs": [],
   "source": [
    "car_prices <- read.csv(\"C:\\\\Users\\\\hunte\\\\Freelance Data Work\\\\OneDrive\\\\MBA\\\\Spring Term 2\\\\Business Analytics for Decisions\\\\Team Project\\\\car_prices.csv\", fileEncoding = \"UTF-8\")"
   ]
  },
  {
   "cell_type": "code",
   "execution_count": 3,
   "id": "a97a7097-5dbb-47ab-98ed-f3a811cc109a",
   "metadata": {},
   "outputs": [
    {
     "name": "stdout",
     "output_type": "stream",
     "text": [
      "'data.frame':\t558837 obs. of  16 variables:\n",
      " $ year        : int  2015 2015 2014 2015 2014 2015 2014 2014 2014 2014 ...\n",
      " $ make        : chr  \"Kia\" \"Kia\" \"BMW\" \"Volvo\" ...\n",
      " $ model       : chr  \"Sorento\" \"Sorento\" \"3 Series\" \"S60\" ...\n",
      " $ trim        : chr  \"LX\" \"LX\" \"328i SULEV\" \"T5\" ...\n",
      " $ body        : chr  \"SUV\" \"SUV\" \"Sedan\" \"Sedan\" ...\n",
      " $ transmission: chr  \"automatic\" \"automatic\" \"automatic\" \"automatic\" ...\n",
      " $ vin         : chr  \"5xyktca69fg566472\" \"5xyktca69fg561319\" \"wba3c1c51ek116351\" \"yv1612tb4f1310987\" ...\n",
      " $ state       : chr  \"ca\" \"ca\" \"ca\" \"ca\" ...\n",
      " $ condition   : int  5 5 45 41 43 1 34 2 42 3 ...\n",
      " $ odometer    : int  16639 9393 1331 14282 2641 5554 14943 28617 9557 4809 ...\n",
      " $ color       : chr  \"white\" \"white\" \"gray\" \"white\" ...\n",
      " $ interior    : chr  \"black\" \"beige\" \"black\" \"black\" ...\n",
      " $ seller      : chr  \"kia motors america  inc\" \"kia motors america  inc\" \"financial services remarketing (lease)\" \"volvo na rep/world omni\" ...\n",
      " $ mmr         : int  20500 20800 31900 27500 66000 15350 69000 11900 32100 26300 ...\n",
      " $ sellingprice: int  21500 21500 30000 27750 67000 10900 65000 9800 32250 17500 ...\n",
      " $ saledate    : chr  \"Tue Dec 16 2014 12:30:00 GMT-0800 (PST)\" \"Tue Dec 16 2014 12:30:00 GMT-0800 (PST)\" \"Thu Jan 15 2015 04:30:00 GMT-0800 (PST)\" \"Thu Jan 29 2015 04:30:00 GMT-0800 (PST)\" ...\n"
     ]
    }
   ],
   "source": [
    "str(car_prices)"
   ]
  },
  {
   "cell_type": "code",
   "execution_count": 4,
   "id": "3b511a22-20af-4d8b-a187-6063273c018d",
   "metadata": {},
   "outputs": [
    {
     "data": {
      "text/html": [
       "<table class=\"dataframe\">\n",
       "<caption>A data.frame: 6 × 16</caption>\n",
       "<thead>\n",
       "\t<tr><th></th><th scope=col>year</th><th scope=col>make</th><th scope=col>model</th><th scope=col>trim</th><th scope=col>body</th><th scope=col>transmission</th><th scope=col>vin</th><th scope=col>state</th><th scope=col>condition</th><th scope=col>odometer</th><th scope=col>color</th><th scope=col>interior</th><th scope=col>seller</th><th scope=col>mmr</th><th scope=col>sellingprice</th><th scope=col>saledate</th></tr>\n",
       "\t<tr><th></th><th scope=col>&lt;int&gt;</th><th scope=col>&lt;chr&gt;</th><th scope=col>&lt;chr&gt;</th><th scope=col>&lt;chr&gt;</th><th scope=col>&lt;chr&gt;</th><th scope=col>&lt;chr&gt;</th><th scope=col>&lt;chr&gt;</th><th scope=col>&lt;chr&gt;</th><th scope=col>&lt;int&gt;</th><th scope=col>&lt;int&gt;</th><th scope=col>&lt;chr&gt;</th><th scope=col>&lt;chr&gt;</th><th scope=col>&lt;chr&gt;</th><th scope=col>&lt;int&gt;</th><th scope=col>&lt;int&gt;</th><th scope=col>&lt;chr&gt;</th></tr>\n",
       "</thead>\n",
       "<tbody>\n",
       "\t<tr><th scope=row>1</th><td>2015</td><td>Kia   </td><td>Sorento            </td><td>LX        </td><td>SUV  </td><td>automatic</td><td>5xyktca69fg566472</td><td>ca</td><td> 5</td><td>16639</td><td>white</td><td>black</td><td>kia motors america  inc                           </td><td>20500</td><td>21500</td><td>Tue Dec 16 2014 12:30:00 GMT-0800 (PST)</td></tr>\n",
       "\t<tr><th scope=row>2</th><td>2015</td><td>Kia   </td><td>Sorento            </td><td>LX        </td><td>SUV  </td><td>automatic</td><td>5xyktca69fg561319</td><td>ca</td><td> 5</td><td> 9393</td><td>white</td><td>beige</td><td>kia motors america  inc                           </td><td>20800</td><td>21500</td><td>Tue Dec 16 2014 12:30:00 GMT-0800 (PST)</td></tr>\n",
       "\t<tr><th scope=row>3</th><td>2014</td><td>BMW   </td><td>3 Series           </td><td>328i SULEV</td><td>Sedan</td><td>automatic</td><td>wba3c1c51ek116351</td><td>ca</td><td>45</td><td> 1331</td><td>gray </td><td>black</td><td>financial services remarketing (lease)            </td><td>31900</td><td>30000</td><td>Thu Jan 15 2015 04:30:00 GMT-0800 (PST)</td></tr>\n",
       "\t<tr><th scope=row>4</th><td>2015</td><td>Volvo </td><td>S60                </td><td>T5        </td><td>Sedan</td><td>automatic</td><td>yv1612tb4f1310987</td><td>ca</td><td>41</td><td>14282</td><td>white</td><td>black</td><td>volvo na rep/world omni                           </td><td>27500</td><td>27750</td><td>Thu Jan 29 2015 04:30:00 GMT-0800 (PST)</td></tr>\n",
       "\t<tr><th scope=row>5</th><td>2014</td><td>BMW   </td><td>6 Series Gran Coupe</td><td>650i      </td><td>Sedan</td><td>automatic</td><td>wba6b2c57ed129731</td><td>ca</td><td>43</td><td> 2641</td><td>gray </td><td>black</td><td>financial services remarketing (lease)            </td><td>66000</td><td>67000</td><td>Thu Dec 18 2014 12:30:00 GMT-0800 (PST)</td></tr>\n",
       "\t<tr><th scope=row>6</th><td>2015</td><td>Nissan</td><td>Altima             </td><td>2.5 S     </td><td>Sedan</td><td>automatic</td><td>1n4al3ap1fn326013</td><td>ca</td><td> 1</td><td> 5554</td><td>gray </td><td>black</td><td>enterprise vehicle exchange / tra / rental / tulsa</td><td>15350</td><td>10900</td><td>Tue Dec 30 2014 12:00:00 GMT-0800 (PST)</td></tr>\n",
       "</tbody>\n",
       "</table>\n"
      ],
      "text/latex": [
       "A data.frame: 6 × 16\n",
       "\\begin{tabular}{r|llllllllllllllll}\n",
       "  & year & make & model & trim & body & transmission & vin & state & condition & odometer & color & interior & seller & mmr & sellingprice & saledate\\\\\n",
       "  & <int> & <chr> & <chr> & <chr> & <chr> & <chr> & <chr> & <chr> & <int> & <int> & <chr> & <chr> & <chr> & <int> & <int> & <chr>\\\\\n",
       "\\hline\n",
       "\t1 & 2015 & Kia    & Sorento             & LX         & SUV   & automatic & 5xyktca69fg566472 & ca &  5 & 16639 & white & black & kia motors america  inc                            & 20500 & 21500 & Tue Dec 16 2014 12:30:00 GMT-0800 (PST)\\\\\n",
       "\t2 & 2015 & Kia    & Sorento             & LX         & SUV   & automatic & 5xyktca69fg561319 & ca &  5 &  9393 & white & beige & kia motors america  inc                            & 20800 & 21500 & Tue Dec 16 2014 12:30:00 GMT-0800 (PST)\\\\\n",
       "\t3 & 2014 & BMW    & 3 Series            & 328i SULEV & Sedan & automatic & wba3c1c51ek116351 & ca & 45 &  1331 & gray  & black & financial services remarketing (lease)             & 31900 & 30000 & Thu Jan 15 2015 04:30:00 GMT-0800 (PST)\\\\\n",
       "\t4 & 2015 & Volvo  & S60                 & T5         & Sedan & automatic & yv1612tb4f1310987 & ca & 41 & 14282 & white & black & volvo na rep/world omni                            & 27500 & 27750 & Thu Jan 29 2015 04:30:00 GMT-0800 (PST)\\\\\n",
       "\t5 & 2014 & BMW    & 6 Series Gran Coupe & 650i       & Sedan & automatic & wba6b2c57ed129731 & ca & 43 &  2641 & gray  & black & financial services remarketing (lease)             & 66000 & 67000 & Thu Dec 18 2014 12:30:00 GMT-0800 (PST)\\\\\n",
       "\t6 & 2015 & Nissan & Altima              & 2.5 S      & Sedan & automatic & 1n4al3ap1fn326013 & ca &  1 &  5554 & gray  & black & enterprise vehicle exchange / tra / rental / tulsa & 15350 & 10900 & Tue Dec 30 2014 12:00:00 GMT-0800 (PST)\\\\\n",
       "\\end{tabular}\n"
      ],
      "text/markdown": [
       "\n",
       "A data.frame: 6 × 16\n",
       "\n",
       "| <!--/--> | year &lt;int&gt; | make &lt;chr&gt; | model &lt;chr&gt; | trim &lt;chr&gt; | body &lt;chr&gt; | transmission &lt;chr&gt; | vin &lt;chr&gt; | state &lt;chr&gt; | condition &lt;int&gt; | odometer &lt;int&gt; | color &lt;chr&gt; | interior &lt;chr&gt; | seller &lt;chr&gt; | mmr &lt;int&gt; | sellingprice &lt;int&gt; | saledate &lt;chr&gt; |\n",
       "|---|---|---|---|---|---|---|---|---|---|---|---|---|---|---|---|---|\n",
       "| 1 | 2015 | Kia    | Sorento             | LX         | SUV   | automatic | 5xyktca69fg566472 | ca |  5 | 16639 | white | black | kia motors america  inc                            | 20500 | 21500 | Tue Dec 16 2014 12:30:00 GMT-0800 (PST) |\n",
       "| 2 | 2015 | Kia    | Sorento             | LX         | SUV   | automatic | 5xyktca69fg561319 | ca |  5 |  9393 | white | beige | kia motors america  inc                            | 20800 | 21500 | Tue Dec 16 2014 12:30:00 GMT-0800 (PST) |\n",
       "| 3 | 2014 | BMW    | 3 Series            | 328i SULEV | Sedan | automatic | wba3c1c51ek116351 | ca | 45 |  1331 | gray  | black | financial services remarketing (lease)             | 31900 | 30000 | Thu Jan 15 2015 04:30:00 GMT-0800 (PST) |\n",
       "| 4 | 2015 | Volvo  | S60                 | T5         | Sedan | automatic | yv1612tb4f1310987 | ca | 41 | 14282 | white | black | volvo na rep/world omni                            | 27500 | 27750 | Thu Jan 29 2015 04:30:00 GMT-0800 (PST) |\n",
       "| 5 | 2014 | BMW    | 6 Series Gran Coupe | 650i       | Sedan | automatic | wba6b2c57ed129731 | ca | 43 |  2641 | gray  | black | financial services remarketing (lease)             | 66000 | 67000 | Thu Dec 18 2014 12:30:00 GMT-0800 (PST) |\n",
       "| 6 | 2015 | Nissan | Altima              | 2.5 S      | Sedan | automatic | 1n4al3ap1fn326013 | ca |  1 |  5554 | gray  | black | enterprise vehicle exchange / tra / rental / tulsa | 15350 | 10900 | Tue Dec 30 2014 12:00:00 GMT-0800 (PST) |\n",
       "\n"
      ],
      "text/plain": [
       "  year make   model               trim       body  transmission\n",
       "1 2015 Kia    Sorento             LX         SUV   automatic   \n",
       "2 2015 Kia    Sorento             LX         SUV   automatic   \n",
       "3 2014 BMW    3 Series            328i SULEV Sedan automatic   \n",
       "4 2015 Volvo  S60                 T5         Sedan automatic   \n",
       "5 2014 BMW    6 Series Gran Coupe 650i       Sedan automatic   \n",
       "6 2015 Nissan Altima              2.5 S      Sedan automatic   \n",
       "  vin               state condition odometer color interior\n",
       "1 5xyktca69fg566472 ca     5        16639    white black   \n",
       "2 5xyktca69fg561319 ca     5         9393    white beige   \n",
       "3 wba3c1c51ek116351 ca    45         1331    gray  black   \n",
       "4 yv1612tb4f1310987 ca    41        14282    white black   \n",
       "5 wba6b2c57ed129731 ca    43         2641    gray  black   \n",
       "6 1n4al3ap1fn326013 ca     1         5554    gray  black   \n",
       "  seller                                             mmr   sellingprice\n",
       "1 kia motors america  inc                            20500 21500       \n",
       "2 kia motors america  inc                            20800 21500       \n",
       "3 financial services remarketing (lease)             31900 30000       \n",
       "4 volvo na rep/world omni                            27500 27750       \n",
       "5 financial services remarketing (lease)             66000 67000       \n",
       "6 enterprise vehicle exchange / tra / rental / tulsa 15350 10900       \n",
       "  saledate                               \n",
       "1 Tue Dec 16 2014 12:30:00 GMT-0800 (PST)\n",
       "2 Tue Dec 16 2014 12:30:00 GMT-0800 (PST)\n",
       "3 Thu Jan 15 2015 04:30:00 GMT-0800 (PST)\n",
       "4 Thu Jan 29 2015 04:30:00 GMT-0800 (PST)\n",
       "5 Thu Dec 18 2014 12:30:00 GMT-0800 (PST)\n",
       "6 Tue Dec 30 2014 12:00:00 GMT-0800 (PST)"
      ]
     },
     "metadata": {},
     "output_type": "display_data"
    }
   ],
   "source": [
    "head(car_prices)"
   ]
  },
  {
   "cell_type": "markdown",
   "id": "a1ada4ec-ba8a-4d7f-a439-ef1bab451766",
   "metadata": {},
   "source": [
    "## Data Cleaning "
   ]
  },
  {
   "cell_type": "markdown",
   "id": "389de7c6-ac8f-4730-9fb4-9e3b886ddaee",
   "metadata": {},
   "source": [
    "### Make Column"
   ]
  },
  {
   "cell_type": "code",
   "execution_count": 5,
   "id": "204d059e-9d3e-4a8e-bc9d-78500e05ae29",
   "metadata": {},
   "outputs": [
    {
     "data": {
      "text/plain": [
       "\n",
       "                      acura         Acura     airstream  Aston Martin \n",
       "        10301            25          5901             1            25 \n",
       "         audi          Audi       Bentley           bmw           BMW \n",
       "            8          5869           116            74         20719 \n",
       "        buick         Buick      cadillac      Cadillac    chev truck \n",
       "           14          5107           110          7519             1 \n",
       "    chevrolet     Chevrolet      chrysler      Chrysler        Daewoo \n",
       "          390         60197           209         17276             3 \n",
       "        dodge         Dodge      dodge tk           dot       Ferrari \n",
       "          245         30710             1             1            19 \n",
       "         FIAT        Fisker          ford          Ford       ford tk \n",
       "          865             9           443         93554             1 \n",
       "   ford truck           Geo           gmc           GMC     gmc truck \n",
       "            3            19            25         10613            11 \n",
       "        honda         Honda        HUMMER       hyundai       Hyundai \n",
       "          145         27206           805            20         21816 \n",
       "   hyundai tk      Infiniti         Isuzu        Jaguar          jeep \n",
       "            1         15305           204          1420           111 \n",
       "         Jeep           kia           Kia   Lamborghini    land rover \n",
       "        15372             7         18077             4           129 \n",
       "   Land Rover     landrover         lexus         Lexus       lincoln \n",
       "         1735            27           119         11861            29 \n",
       "      Lincoln         Lotus      maserati      Maserati         mazda \n",
       "         5757             1             3           133           146 \n",
       "        Mazda      mazda tk      mercedes    mercedes-b Mercedes-Benz \n",
       "         8362             1            70             2         17141 \n",
       "      mercury       Mercury          MINI    mitsubishi    Mitsubishi \n",
       "           31          1992          3224           117          4140 \n",
       "       nissan        Nissan    oldsmobile    Oldsmobile      plymouth \n",
       "           71         53946            20           364             7 \n",
       "     Plymouth       pontiac       Pontiac       porsche       Porsche \n",
       "           20            27          4497            19          1383 \n",
       "          Ram   Rolls-Royce          Saab        Saturn         Scion \n",
       "         4574            17           484          2841          1687 \n",
       "        smart        subaru        Subaru        suzuki        Suzuki \n",
       "          396            60          5043             5          1073 \n",
       "        Tesla        toyota        Toyota    volkswagen    Volkswagen \n",
       "           23            95         39871            24         12581 \n",
       "        Volvo            vw \n",
       "         3788            24 "
      ]
     },
     "metadata": {},
     "output_type": "display_data"
    }
   ],
   "source": [
    "# Check make column for inconsistent capitalization\n",
    "table(car_prices$make)"
   ]
  },
  {
   "cell_type": "code",
   "execution_count": 6,
   "id": "f17d8e2b-4dd2-4c7a-b103-0e4c9c6cf369",
   "metadata": {},
   "outputs": [],
   "source": [
    "# Standardize capitalization in the make column\n",
    "# Table data shows titled and lowercase duplicates\n",
    "car_prices <- car_prices %>%\n",
    "  mutate(make = str_to_title(make))"
   ]
  },
  {
   "cell_type": "code",
   "execution_count": 7,
   "id": "26ab90ea-27dd-40ee-91bd-3167d14bcd00",
   "metadata": {},
   "outputs": [
    {
     "data": {
      "text/plain": [
       "\n",
       "                      Acura     Airstream  Aston Martin          Audi \n",
       "        10301          5926             1            25          5877 \n",
       "      Bentley           Bmw         Buick      Cadillac    Chev Truck \n",
       "          116         20793          5121          7629             1 \n",
       "    Chevrolet      Chrysler        Daewoo         Dodge      Dodge Tk \n",
       "        60587         17485             3         30955             1 \n",
       "          Dot       Ferrari          Fiat        Fisker          Ford \n",
       "            1            19           865             9         93997 \n",
       "      Ford Tk    Ford Truck           Geo           Gmc     Gmc Truck \n",
       "            1             3            19         10638            11 \n",
       "        Honda        Hummer       Hyundai    Hyundai Tk      Infiniti \n",
       "        27351           805         21836             1         15305 \n",
       "        Isuzu        Jaguar          Jeep           Kia   Lamborghini \n",
       "          204          1420         15483         18084             4 \n",
       "   Land Rover     Landrover         Lexus       Lincoln         Lotus \n",
       "         1864            27         11980          5786             1 \n",
       "     Maserati         Mazda      Mazda Tk      Mercedes    Mercedes-B \n",
       "          136          8508             1            70             2 \n",
       "Mercedes-Benz       Mercury          Mini    Mitsubishi        Nissan \n",
       "        17141          2023          3224          4257         54017 \n",
       "   Oldsmobile      Plymouth       Pontiac       Porsche           Ram \n",
       "          384            27          4524          1402          4574 \n",
       "  Rolls-Royce          Saab        Saturn         Scion         Smart \n",
       "           17           484          2841          1687           396 \n",
       "       Subaru        Suzuki         Tesla        Toyota    Volkswagen \n",
       "         5103          1078            23         39966         12605 \n",
       "        Volvo            Vw \n",
       "         3788            24 "
      ]
     },
     "metadata": {},
     "output_type": "display_data"
    }
   ],
   "source": [
    "# Confirm changes\n",
    "table(car_prices$make)"
   ]
  },
  {
   "cell_type": "markdown",
   "id": "8a4777d8-03be-4f4f-934e-173bfb4b22dd",
   "metadata": {},
   "source": [
    "### Filter For Toyota Vehicles & Clean"
   ]
  },
  {
   "cell_type": "code",
   "execution_count": 8,
   "id": "cb18727b-d51c-4edc-a812-69e4288c4cc2",
   "metadata": {},
   "outputs": [],
   "source": [
    "# Subset Toyota vehicles, parse sale date, and drop any missing values\n",
    "toyota_data <- car_prices %>%\n",
    "  filter(make == \"Toyota\") %>%\n",
    "  mutate(saledate = mdy_hms(saledate, quiet = TRUE)) %>%\n",
    "  drop_na()"
   ]
  },
  {
   "cell_type": "code",
   "execution_count": 9,
   "id": "0ad9a7a6-6258-4192-9709-ffb7fc0c4945",
   "metadata": {},
   "outputs": [
    {
     "name": "stdout",
     "output_type": "stream",
     "text": [
      "'data.frame':\t39077 obs. of  16 variables:\n",
      " $ year        : int  2013 2013 2013 2013 2013 2013 2013 2013 2013 2013 ...\n",
      " $ make        : chr  \"Toyota\" \"Toyota\" \"Toyota\" \"Toyota\" ...\n",
      " $ model       : chr  \"Corolla\" \"Sienna\" \"Yaris\" \"Corolla\" ...\n",
      " $ trim        : chr  \"LE\" \"LE 7-Passenger Mobility Auto Access\" \"L\" \"S\" ...\n",
      " $ body        : chr  \"Sedan\" \"Minivan\" \"Hatchback\" \"Sedan\" ...\n",
      " $ transmission: chr  \"automatic\" \"automatic\" \"automatic\" \"automatic\" ...\n",
      " $ vin         : chr  \"5yfbu4ee5dp216754\" \"5tdkk3dc4ds344460\" \"jtdktud33dd552876\" \"2t1bu4ee4dc089995\" ...\n",
      " $ state       : chr  \"ca\" \"ca\" \"ca\" \"ca\" ...\n",
      " $ condition   : int  1 35 2 47 38 5 28 37 1 33 ...\n",
      " $ odometer    : int  34915 49188 28412 19836 38882 2575 32198 36431 48744 36159 ...\n",
      " $ color       : chr  \"black\" \"gray\" \"white\" \"orange\" ...\n",
      " $ interior    : chr  \"gray\" \"tan\" \"gray\" \"black\" ...\n",
      " $ seller      : chr  \"enterprise vehicle exchange / tra / rental / tulsa\" \"the hertz corporation\" \"enterprise vehicle exchange / tra / rental / tulsa\" \"consolidated asset recovery systems  inc.\" ...\n",
      " $ mmr         : int  11400 17150 9775 13500 13200 21800 21200 25200 10600 18850 ...\n",
      " $ sellingprice: int  9200 18000 7800 14100 13500 22000 20500 24200 9500 19500 ...\n",
      " $ saledate    : POSIXct, format: \"2014-12-16 20:00:00\" \"2014-12-16 20:30:00\" ...\n"
     ]
    }
   ],
   "source": [
    "# Confirm structure\n",
    "str(toyota_data)"
   ]
  },
  {
   "cell_type": "code",
   "execution_count": 10,
   "id": "a1715d4d-8f04-412d-bce6-b05b2cecbdaf",
   "metadata": {},
   "outputs": [
    {
     "data": {
      "text/html": [
       "<style>\n",
       ".dl-inline {width: auto; margin:0; padding: 0}\n",
       ".dl-inline>dt, .dl-inline>dd {float: none; width: auto; display: inline-block}\n",
       ".dl-inline>dt::after {content: \":\\0020\"; padding-right: .5ex}\n",
       ".dl-inline>dt:not(:first-of-type) {padding-left: .5ex}\n",
       "</style><dl class=dl-inline><dt>year</dt><dd>0</dd><dt>make</dt><dd>0</dd><dt>model</dt><dd>0</dd><dt>trim</dt><dd>0</dd><dt>body</dt><dd>0</dd><dt>transmission</dt><dd>0</dd><dt>vin</dt><dd>0</dd><dt>state</dt><dd>0</dd><dt>condition</dt><dd>0</dd><dt>odometer</dt><dd>0</dd><dt>color</dt><dd>0</dd><dt>interior</dt><dd>0</dd><dt>seller</dt><dd>0</dd><dt>mmr</dt><dd>0</dd><dt>sellingprice</dt><dd>0</dd><dt>saledate</dt><dd>0</dd></dl>\n"
      ],
      "text/latex": [
       "\\begin{description*}\n",
       "\\item[year] 0\n",
       "\\item[make] 0\n",
       "\\item[model] 0\n",
       "\\item[trim] 0\n",
       "\\item[body] 0\n",
       "\\item[transmission] 0\n",
       "\\item[vin] 0\n",
       "\\item[state] 0\n",
       "\\item[condition] 0\n",
       "\\item[odometer] 0\n",
       "\\item[color] 0\n",
       "\\item[interior] 0\n",
       "\\item[seller] 0\n",
       "\\item[mmr] 0\n",
       "\\item[sellingprice] 0\n",
       "\\item[saledate] 0\n",
       "\\end{description*}\n"
      ],
      "text/markdown": [
       "year\n",
       ":   0make\n",
       ":   0model\n",
       ":   0trim\n",
       ":   0body\n",
       ":   0transmission\n",
       ":   0vin\n",
       ":   0state\n",
       ":   0condition\n",
       ":   0odometer\n",
       ":   0color\n",
       ":   0interior\n",
       ":   0seller\n",
       ":   0mmr\n",
       ":   0sellingprice\n",
       ":   0saledate\n",
       ":   0\n",
       "\n"
      ],
      "text/plain": [
       "        year         make        model         trim         body transmission \n",
       "           0            0            0            0            0            0 \n",
       "         vin        state    condition     odometer        color     interior \n",
       "           0            0            0            0            0            0 \n",
       "      seller          mmr sellingprice     saledate \n",
       "           0            0            0            0 "
      ]
     },
     "metadata": {},
     "output_type": "display_data"
    },
    {
     "data": {
      "text/html": [
       "0"
      ],
      "text/latex": [
       "0"
      ],
      "text/markdown": [
       "0"
      ],
      "text/plain": [
       "[1] 0"
      ]
     },
     "metadata": {},
     "output_type": "display_data"
    }
   ],
   "source": [
    "# Verify: Any missing values or duplicates?\n",
    "# No duplicates\n",
    "colSums(is.na(toyota_data))\n",
    "sum(duplicated(toyota_data))"
   ]
  },
  {
   "cell_type": "markdown",
   "id": "0b5e5cdf-3d14-441b-b2cc-2a0937af4de5",
   "metadata": {},
   "source": [
    "### Validation: Check for missing values or duplicates"
   ]
  },
  {
   "cell_type": "code",
   "execution_count": 11,
   "id": "92ca6feb-3d2b-4314-9d6c-73723dfe5232",
   "metadata": {},
   "outputs": [
    {
     "data": {
      "text/html": [
       "'Toyota'"
      ],
      "text/latex": [
       "'Toyota'"
      ],
      "text/markdown": [
       "'Toyota'"
      ],
      "text/plain": [
       "[1] \"Toyota\""
      ]
     },
     "metadata": {},
     "output_type": "display_data"
    }
   ],
   "source": [
    "# Check unique values for inconsistencies\n",
    "sort(unique(toyota_data$make))"
   ]
  },
  {
   "cell_type": "code",
   "execution_count": 12,
   "id": "b9462ca8-8749-47f7-8899-24bb0f737285",
   "metadata": {},
   "outputs": [
    {
     "data": {
      "text/html": [
       "<style>\n",
       ".list-inline {list-style: none; margin:0; padding: 0}\n",
       ".list-inline>li {display: inline-block}\n",
       ".list-inline>li:not(:last-child)::after {content: \"\\00b7\"; padding: 0 .5ex}\n",
       "</style>\n",
       "<ol class=list-inline><li>'4Runner'</li><li>'avalon'</li><li>'Avalon'</li><li>'Avalon Hybrid'</li><li>'camry'</li><li>'Camry'</li><li>'Camry Hybrid'</li><li>'Camry Solara'</li><li>'Celica'</li><li>'corolla'</li><li>'Corolla'</li><li>'ECHO'</li><li>'FJ Cruiser'</li><li>'Highlander'</li><li>'Highlander Hybrid'</li><li>'Land Cruiser'</li><li>'matrix'</li><li>'Matrix'</li><li>'MR2 Spyder'</li><li>'Paseo'</li><li>'pickup'</li><li>'Pickup'</li><li>'previa'</li><li>'Prius'</li><li>'Prius c'</li><li>'Prius Plug-in'</li><li>'Prius v'</li><li>'RAV4'</li><li>'Sequoia'</li><li>'sienna'</li><li>'Sienna'</li><li>'T100'</li><li>'Tacoma'</li><li>'Tercel'</li><li>'tundra'</li><li>'Tundra'</li><li>'Venza'</li><li>'yaris'</li><li>'Yaris'</li></ol>\n"
      ],
      "text/latex": [
       "\\begin{enumerate*}\n",
       "\\item '4Runner'\n",
       "\\item 'avalon'\n",
       "\\item 'Avalon'\n",
       "\\item 'Avalon Hybrid'\n",
       "\\item 'camry'\n",
       "\\item 'Camry'\n",
       "\\item 'Camry Hybrid'\n",
       "\\item 'Camry Solara'\n",
       "\\item 'Celica'\n",
       "\\item 'corolla'\n",
       "\\item 'Corolla'\n",
       "\\item 'ECHO'\n",
       "\\item 'FJ Cruiser'\n",
       "\\item 'Highlander'\n",
       "\\item 'Highlander Hybrid'\n",
       "\\item 'Land Cruiser'\n",
       "\\item 'matrix'\n",
       "\\item 'Matrix'\n",
       "\\item 'MR2 Spyder'\n",
       "\\item 'Paseo'\n",
       "\\item 'pickup'\n",
       "\\item 'Pickup'\n",
       "\\item 'previa'\n",
       "\\item 'Prius'\n",
       "\\item 'Prius c'\n",
       "\\item 'Prius Plug-in'\n",
       "\\item 'Prius v'\n",
       "\\item 'RAV4'\n",
       "\\item 'Sequoia'\n",
       "\\item 'sienna'\n",
       "\\item 'Sienna'\n",
       "\\item 'T100'\n",
       "\\item 'Tacoma'\n",
       "\\item 'Tercel'\n",
       "\\item 'tundra'\n",
       "\\item 'Tundra'\n",
       "\\item 'Venza'\n",
       "\\item 'yaris'\n",
       "\\item 'Yaris'\n",
       "\\end{enumerate*}\n"
      ],
      "text/markdown": [
       "1. '4Runner'\n",
       "2. 'avalon'\n",
       "3. 'Avalon'\n",
       "4. 'Avalon Hybrid'\n",
       "5. 'camry'\n",
       "6. 'Camry'\n",
       "7. 'Camry Hybrid'\n",
       "8. 'Camry Solara'\n",
       "9. 'Celica'\n",
       "10. 'corolla'\n",
       "11. 'Corolla'\n",
       "12. 'ECHO'\n",
       "13. 'FJ Cruiser'\n",
       "14. 'Highlander'\n",
       "15. 'Highlander Hybrid'\n",
       "16. 'Land Cruiser'\n",
       "17. 'matrix'\n",
       "18. 'Matrix'\n",
       "19. 'MR2 Spyder'\n",
       "20. 'Paseo'\n",
       "21. 'pickup'\n",
       "22. 'Pickup'\n",
       "23. 'previa'\n",
       "24. 'Prius'\n",
       "25. 'Prius c'\n",
       "26. 'Prius Plug-in'\n",
       "27. 'Prius v'\n",
       "28. 'RAV4'\n",
       "29. 'Sequoia'\n",
       "30. 'sienna'\n",
       "31. 'Sienna'\n",
       "32. 'T100'\n",
       "33. 'Tacoma'\n",
       "34. 'Tercel'\n",
       "35. 'tundra'\n",
       "36. 'Tundra'\n",
       "37. 'Venza'\n",
       "38. 'yaris'\n",
       "39. 'Yaris'\n",
       "\n",
       "\n"
      ],
      "text/plain": [
       " [1] \"4Runner\"           \"avalon\"            \"Avalon\"           \n",
       " [4] \"Avalon Hybrid\"     \"camry\"             \"Camry\"            \n",
       " [7] \"Camry Hybrid\"      \"Camry Solara\"      \"Celica\"           \n",
       "[10] \"corolla\"           \"Corolla\"           \"ECHO\"             \n",
       "[13] \"FJ Cruiser\"        \"Highlander\"        \"Highlander Hybrid\"\n",
       "[16] \"Land Cruiser\"      \"matrix\"            \"Matrix\"           \n",
       "[19] \"MR2 Spyder\"        \"Paseo\"             \"pickup\"           \n",
       "[22] \"Pickup\"            \"previa\"            \"Prius\"            \n",
       "[25] \"Prius c\"           \"Prius Plug-in\"     \"Prius v\"          \n",
       "[28] \"RAV4\"              \"Sequoia\"           \"sienna\"           \n",
       "[31] \"Sienna\"            \"T100\"              \"Tacoma\"           \n",
       "[34] \"Tercel\"            \"tundra\"            \"Tundra\"           \n",
       "[37] \"Venza\"             \"yaris\"             \"Yaris\"            "
      ]
     },
     "metadata": {},
     "output_type": "display_data"
    }
   ],
   "source": [
    "sort(unique(toyota_data$model))"
   ]
  },
  {
   "cell_type": "code",
   "execution_count": 13,
   "id": "b0f2c7a1-e27c-4d3c-96ff-7ea573c01125",
   "metadata": {},
   "outputs": [
    {
     "data": {
      "text/html": [
       "<style>\n",
       ".list-inline {list-style: none; margin:0; padding: 0}\n",
       ".list-inline>li {display: inline-block}\n",
       ".list-inline>li:not(:last-child)::after {content: \"\\00b7\"; padding: 0 .5ex}\n",
       "</style>\n",
       "<ol class=list-inline><li>''</li><li>'1794'</li><li>'1794 FFV'</li><li>'4c le'</li><li>'4x2 cr limited'</li><li>'4x2 v6 sr5'</li><li>'4x2 v8 limited'</li><li>'4x2 v8 sr5'</li><li>'4x2 v8 x-sp'</li><li>'4x4'</li><li>'4x4 v8 limited'</li><li>'4x4 v8 sr5'</li><li>'Advanced'</li><li>'base'</li><li>'Base'</li><li>'Base 7-Passenger'</li><li>'ce'</li><li>'CE'</li><li>'CE 7-Passenger'</li><li>'Deluxe'</li><li>'dx'</li><li>'DX'</li><li>'DX V6'</li><li>'Five'</li><li>'Fleet'</li><li>'GT'</li><li>'GT-S'</li><li>'GTS'</li><li>'I'</li><li>'II'</li><li>'III'</li><li>'IV'</li><li>'L'</li><li>'L 7-Passenger'</li><li>'le'</li><li>'LE'</li><li>'LE 7-Passenger'</li><li>'LE 7-Passenger Mobility Auto Access'</li><li>'LE 8-Passenger'</li><li>'LE Eco'</li><li>'LE Plus'</li><li>'LE V6'</li><li>'Limited'</li><li>'Limited 7-Passenger'</li><li>'Limited FFV'</li><li>'One'</li><li>'Platinum'</li><li>'Platinum FFV'</li><li>'Plus'</li><li>'Prerunner'</li><li>'PreRunner'</li><li>'PreRunner V6'</li><li>'s'</li><li>'S'</li><li>'S Plus'</li><li>'S Premium'</li><li>'S Special Edition'</li><li>'SE'</li><li>'SE 8-Passenger'</li><li>'SE Sport'</li><li>'SE V6'</li><li>'SLE'</li><li>'SLE V6'</li><li>'Sport'</li><li>'Sport Edition'</li><li>'Sport V6'</li><li>'SR'</li><li>'SR FFV'</li><li>'SR5'</li><li>'SR5 FFV'</li><li>'SR5 V6'</li><li>'ST'</li><li>'Three'</li><li>'Touring'</li><li>'Trail'</li><li>'TRD PRO'</li><li>'Tundra'</li><li>'Tundra FFV'</li><li>'Tundra Grade'</li><li>'Two'</li><li>'V'</li><li>'V6'</li><li>'VE'</li><li>'X-Runner V6'</li><li>'xl'</li><li>'XL'</li><li>'xle'</li><li>'XLE'</li><li>'XLE 7-Passenger'</li><li>'XLE 8-Passenger'</li><li>'XLE Limited 7-Passenger'</li><li>'XLE Premium'</li><li>'XLE Touring'</li><li>'XLE Touring SE'</li><li>'XLE V6'</li><li>'XLS'</li><li>'xr'</li><li>'XR'</li><li>'XRS'</li><li>'XSE'</li></ol>\n"
      ],
      "text/latex": [
       "\\begin{enumerate*}\n",
       "\\item ''\n",
       "\\item '1794'\n",
       "\\item '1794 FFV'\n",
       "\\item '4c le'\n",
       "\\item '4x2 cr limited'\n",
       "\\item '4x2 v6 sr5'\n",
       "\\item '4x2 v8 limited'\n",
       "\\item '4x2 v8 sr5'\n",
       "\\item '4x2 v8 x-sp'\n",
       "\\item '4x4'\n",
       "\\item '4x4 v8 limited'\n",
       "\\item '4x4 v8 sr5'\n",
       "\\item 'Advanced'\n",
       "\\item 'base'\n",
       "\\item 'Base'\n",
       "\\item 'Base 7-Passenger'\n",
       "\\item 'ce'\n",
       "\\item 'CE'\n",
       "\\item 'CE 7-Passenger'\n",
       "\\item 'Deluxe'\n",
       "\\item 'dx'\n",
       "\\item 'DX'\n",
       "\\item 'DX V6'\n",
       "\\item 'Five'\n",
       "\\item 'Fleet'\n",
       "\\item 'GT'\n",
       "\\item 'GT-S'\n",
       "\\item 'GTS'\n",
       "\\item 'I'\n",
       "\\item 'II'\n",
       "\\item 'III'\n",
       "\\item 'IV'\n",
       "\\item 'L'\n",
       "\\item 'L 7-Passenger'\n",
       "\\item 'le'\n",
       "\\item 'LE'\n",
       "\\item 'LE 7-Passenger'\n",
       "\\item 'LE 7-Passenger Mobility Auto Access'\n",
       "\\item 'LE 8-Passenger'\n",
       "\\item 'LE Eco'\n",
       "\\item 'LE Plus'\n",
       "\\item 'LE V6'\n",
       "\\item 'Limited'\n",
       "\\item 'Limited 7-Passenger'\n",
       "\\item 'Limited FFV'\n",
       "\\item 'One'\n",
       "\\item 'Platinum'\n",
       "\\item 'Platinum FFV'\n",
       "\\item 'Plus'\n",
       "\\item 'Prerunner'\n",
       "\\item 'PreRunner'\n",
       "\\item 'PreRunner V6'\n",
       "\\item 's'\n",
       "\\item 'S'\n",
       "\\item 'S Plus'\n",
       "\\item 'S Premium'\n",
       "\\item 'S Special Edition'\n",
       "\\item 'SE'\n",
       "\\item 'SE 8-Passenger'\n",
       "\\item 'SE Sport'\n",
       "\\item 'SE V6'\n",
       "\\item 'SLE'\n",
       "\\item 'SLE V6'\n",
       "\\item 'Sport'\n",
       "\\item 'Sport Edition'\n",
       "\\item 'Sport V6'\n",
       "\\item 'SR'\n",
       "\\item 'SR FFV'\n",
       "\\item 'SR5'\n",
       "\\item 'SR5 FFV'\n",
       "\\item 'SR5 V6'\n",
       "\\item 'ST'\n",
       "\\item 'Three'\n",
       "\\item 'Touring'\n",
       "\\item 'Trail'\n",
       "\\item 'TRD PRO'\n",
       "\\item 'Tundra'\n",
       "\\item 'Tundra FFV'\n",
       "\\item 'Tundra Grade'\n",
       "\\item 'Two'\n",
       "\\item 'V'\n",
       "\\item 'V6'\n",
       "\\item 'VE'\n",
       "\\item 'X-Runner V6'\n",
       "\\item 'xl'\n",
       "\\item 'XL'\n",
       "\\item 'xle'\n",
       "\\item 'XLE'\n",
       "\\item 'XLE 7-Passenger'\n",
       "\\item 'XLE 8-Passenger'\n",
       "\\item 'XLE Limited 7-Passenger'\n",
       "\\item 'XLE Premium'\n",
       "\\item 'XLE Touring'\n",
       "\\item 'XLE Touring SE'\n",
       "\\item 'XLE V6'\n",
       "\\item 'XLS'\n",
       "\\item 'xr'\n",
       "\\item 'XR'\n",
       "\\item 'XRS'\n",
       "\\item 'XSE'\n",
       "\\end{enumerate*}\n"
      ],
      "text/markdown": [
       "1. ''\n",
       "2. '1794'\n",
       "3. '1794 FFV'\n",
       "4. '4c le'\n",
       "5. '4x2 cr limited'\n",
       "6. '4x2 v6 sr5'\n",
       "7. '4x2 v8 limited'\n",
       "8. '4x2 v8 sr5'\n",
       "9. '4x2 v8 x-sp'\n",
       "10. '4x4'\n",
       "11. '4x4 v8 limited'\n",
       "12. '4x4 v8 sr5'\n",
       "13. 'Advanced'\n",
       "14. 'base'\n",
       "15. 'Base'\n",
       "16. 'Base 7-Passenger'\n",
       "17. 'ce'\n",
       "18. 'CE'\n",
       "19. 'CE 7-Passenger'\n",
       "20. 'Deluxe'\n",
       "21. 'dx'\n",
       "22. 'DX'\n",
       "23. 'DX V6'\n",
       "24. 'Five'\n",
       "25. 'Fleet'\n",
       "26. 'GT'\n",
       "27. 'GT-S'\n",
       "28. 'GTS'\n",
       "29. 'I'\n",
       "30. 'II'\n",
       "31. 'III'\n",
       "32. 'IV'\n",
       "33. 'L'\n",
       "34. 'L 7-Passenger'\n",
       "35. 'le'\n",
       "36. 'LE'\n",
       "37. 'LE 7-Passenger'\n",
       "38. 'LE 7-Passenger Mobility Auto Access'\n",
       "39. 'LE 8-Passenger'\n",
       "40. 'LE Eco'\n",
       "41. 'LE Plus'\n",
       "42. 'LE V6'\n",
       "43. 'Limited'\n",
       "44. 'Limited 7-Passenger'\n",
       "45. 'Limited FFV'\n",
       "46. 'One'\n",
       "47. 'Platinum'\n",
       "48. 'Platinum FFV'\n",
       "49. 'Plus'\n",
       "50. 'Prerunner'\n",
       "51. 'PreRunner'\n",
       "52. 'PreRunner V6'\n",
       "53. 's'\n",
       "54. 'S'\n",
       "55. 'S Plus'\n",
       "56. 'S Premium'\n",
       "57. 'S Special Edition'\n",
       "58. 'SE'\n",
       "59. 'SE 8-Passenger'\n",
       "60. 'SE Sport'\n",
       "61. 'SE V6'\n",
       "62. 'SLE'\n",
       "63. 'SLE V6'\n",
       "64. 'Sport'\n",
       "65. 'Sport Edition'\n",
       "66. 'Sport V6'\n",
       "67. 'SR'\n",
       "68. 'SR FFV'\n",
       "69. 'SR5'\n",
       "70. 'SR5 FFV'\n",
       "71. 'SR5 V6'\n",
       "72. 'ST'\n",
       "73. 'Three'\n",
       "74. 'Touring'\n",
       "75. 'Trail'\n",
       "76. 'TRD PRO'\n",
       "77. 'Tundra'\n",
       "78. 'Tundra FFV'\n",
       "79. 'Tundra Grade'\n",
       "80. 'Two'\n",
       "81. 'V'\n",
       "82. 'V6'\n",
       "83. 'VE'\n",
       "84. 'X-Runner V6'\n",
       "85. 'xl'\n",
       "86. 'XL'\n",
       "87. 'xle'\n",
       "88. 'XLE'\n",
       "89. 'XLE 7-Passenger'\n",
       "90. 'XLE 8-Passenger'\n",
       "91. 'XLE Limited 7-Passenger'\n",
       "92. 'XLE Premium'\n",
       "93. 'XLE Touring'\n",
       "94. 'XLE Touring SE'\n",
       "95. 'XLE V6'\n",
       "96. 'XLS'\n",
       "97. 'xr'\n",
       "98. 'XR'\n",
       "99. 'XRS'\n",
       "100. 'XSE'\n",
       "\n",
       "\n"
      ],
      "text/plain": [
       "  [1] \"\"                                   \n",
       "  [2] \"1794\"                               \n",
       "  [3] \"1794 FFV\"                           \n",
       "  [4] \"4c le\"                              \n",
       "  [5] \"4x2 cr limited\"                     \n",
       "  [6] \"4x2 v6 sr5\"                         \n",
       "  [7] \"4x2 v8 limited\"                     \n",
       "  [8] \"4x2 v8 sr5\"                         \n",
       "  [9] \"4x2 v8 x-sp\"                        \n",
       " [10] \"4x4\"                                \n",
       " [11] \"4x4 v8 limited\"                     \n",
       " [12] \"4x4 v8 sr5\"                         \n",
       " [13] \"Advanced\"                           \n",
       " [14] \"base\"                               \n",
       " [15] \"Base\"                               \n",
       " [16] \"Base 7-Passenger\"                   \n",
       " [17] \"ce\"                                 \n",
       " [18] \"CE\"                                 \n",
       " [19] \"CE 7-Passenger\"                     \n",
       " [20] \"Deluxe\"                             \n",
       " [21] \"dx\"                                 \n",
       " [22] \"DX\"                                 \n",
       " [23] \"DX V6\"                              \n",
       " [24] \"Five\"                               \n",
       " [25] \"Fleet\"                              \n",
       " [26] \"GT\"                                 \n",
       " [27] \"GT-S\"                               \n",
       " [28] \"GTS\"                                \n",
       " [29] \"I\"                                  \n",
       " [30] \"II\"                                 \n",
       " [31] \"III\"                                \n",
       " [32] \"IV\"                                 \n",
       " [33] \"L\"                                  \n",
       " [34] \"L 7-Passenger\"                      \n",
       " [35] \"le\"                                 \n",
       " [36] \"LE\"                                 \n",
       " [37] \"LE 7-Passenger\"                     \n",
       " [38] \"LE 7-Passenger Mobility Auto Access\"\n",
       " [39] \"LE 8-Passenger\"                     \n",
       " [40] \"LE Eco\"                             \n",
       " [41] \"LE Plus\"                            \n",
       " [42] \"LE V6\"                              \n",
       " [43] \"Limited\"                            \n",
       " [44] \"Limited 7-Passenger\"                \n",
       " [45] \"Limited FFV\"                        \n",
       " [46] \"One\"                                \n",
       " [47] \"Platinum\"                           \n",
       " [48] \"Platinum FFV\"                       \n",
       " [49] \"Plus\"                               \n",
       " [50] \"Prerunner\"                          \n",
       " [51] \"PreRunner\"                          \n",
       " [52] \"PreRunner V6\"                       \n",
       " [53] \"s\"                                  \n",
       " [54] \"S\"                                  \n",
       " [55] \"S Plus\"                             \n",
       " [56] \"S Premium\"                          \n",
       " [57] \"S Special Edition\"                  \n",
       " [58] \"SE\"                                 \n",
       " [59] \"SE 8-Passenger\"                     \n",
       " [60] \"SE Sport\"                           \n",
       " [61] \"SE V6\"                              \n",
       " [62] \"SLE\"                                \n",
       " [63] \"SLE V6\"                             \n",
       " [64] \"Sport\"                              \n",
       " [65] \"Sport Edition\"                      \n",
       " [66] \"Sport V6\"                           \n",
       " [67] \"SR\"                                 \n",
       " [68] \"SR FFV\"                             \n",
       " [69] \"SR5\"                                \n",
       " [70] \"SR5 FFV\"                            \n",
       " [71] \"SR5 V6\"                             \n",
       " [72] \"ST\"                                 \n",
       " [73] \"Three\"                              \n",
       " [74] \"Touring\"                            \n",
       " [75] \"Trail\"                              \n",
       " [76] \"TRD PRO\"                            \n",
       " [77] \"Tundra\"                             \n",
       " [78] \"Tundra FFV\"                         \n",
       " [79] \"Tundra Grade\"                       \n",
       " [80] \"Two\"                                \n",
       " [81] \"V\"                                  \n",
       " [82] \"V6\"                                 \n",
       " [83] \"VE\"                                 \n",
       " [84] \"X-Runner V6\"                        \n",
       " [85] \"xl\"                                 \n",
       " [86] \"XL\"                                 \n",
       " [87] \"xle\"                                \n",
       " [88] \"XLE\"                                \n",
       " [89] \"XLE 7-Passenger\"                    \n",
       " [90] \"XLE 8-Passenger\"                    \n",
       " [91] \"XLE Limited 7-Passenger\"            \n",
       " [92] \"XLE Premium\"                        \n",
       " [93] \"XLE Touring\"                        \n",
       " [94] \"XLE Touring SE\"                     \n",
       " [95] \"XLE V6\"                             \n",
       " [96] \"XLS\"                                \n",
       " [97] \"xr\"                                 \n",
       " [98] \"XR\"                                 \n",
       " [99] \"XRS\"                                \n",
       "[100] \"XSE\"                                "
      ]
     },
     "metadata": {},
     "output_type": "display_data"
    }
   ],
   "source": [
    "sort(unique(toyota_data$trim))"
   ]
  },
  {
   "cell_type": "code",
   "execution_count": 14,
   "id": "30fb6f94-2b3e-42a5-9557-bcdead98255b",
   "metadata": {},
   "outputs": [
    {
     "data": {
      "text/html": [
       "<style>\n",
       ".list-inline {list-style: none; margin:0; padding: 0}\n",
       ".list-inline>li {display: inline-block}\n",
       ".list-inline>li:not(:last-child)::after {content: \"\\00b7\"; padding: 0 .5ex}\n",
       "</style>\n",
       "<ol class=list-inline><li>''</li><li>'access cab'</li><li>'Access Cab'</li><li>'convertible'</li><li>'Convertible'</li><li>'coupe'</li><li>'Coupe'</li><li>'crewmax cab'</li><li>'CrewMax Cab'</li><li>'double cab'</li><li>'Double Cab'</li><li>'extended cab'</li><li>'Extended Cab'</li><li>'hatchback'</li><li>'Hatchback'</li><li>'minivan'</li><li>'Minivan'</li><li>'regular cab'</li><li>'Regular Cab'</li><li>'sedan'</li><li>'Sedan'</li><li>'suv'</li><li>'SUV'</li><li>'wagon'</li><li>'Wagon'</li><li>'xtracab'</li><li>'Xtracab'</li></ol>\n"
      ],
      "text/latex": [
       "\\begin{enumerate*}\n",
       "\\item ''\n",
       "\\item 'access cab'\n",
       "\\item 'Access Cab'\n",
       "\\item 'convertible'\n",
       "\\item 'Convertible'\n",
       "\\item 'coupe'\n",
       "\\item 'Coupe'\n",
       "\\item 'crewmax cab'\n",
       "\\item 'CrewMax Cab'\n",
       "\\item 'double cab'\n",
       "\\item 'Double Cab'\n",
       "\\item 'extended cab'\n",
       "\\item 'Extended Cab'\n",
       "\\item 'hatchback'\n",
       "\\item 'Hatchback'\n",
       "\\item 'minivan'\n",
       "\\item 'Minivan'\n",
       "\\item 'regular cab'\n",
       "\\item 'Regular Cab'\n",
       "\\item 'sedan'\n",
       "\\item 'Sedan'\n",
       "\\item 'suv'\n",
       "\\item 'SUV'\n",
       "\\item 'wagon'\n",
       "\\item 'Wagon'\n",
       "\\item 'xtracab'\n",
       "\\item 'Xtracab'\n",
       "\\end{enumerate*}\n"
      ],
      "text/markdown": [
       "1. ''\n",
       "2. 'access cab'\n",
       "3. 'Access Cab'\n",
       "4. 'convertible'\n",
       "5. 'Convertible'\n",
       "6. 'coupe'\n",
       "7. 'Coupe'\n",
       "8. 'crewmax cab'\n",
       "9. 'CrewMax Cab'\n",
       "10. 'double cab'\n",
       "11. 'Double Cab'\n",
       "12. 'extended cab'\n",
       "13. 'Extended Cab'\n",
       "14. 'hatchback'\n",
       "15. 'Hatchback'\n",
       "16. 'minivan'\n",
       "17. 'Minivan'\n",
       "18. 'regular cab'\n",
       "19. 'Regular Cab'\n",
       "20. 'sedan'\n",
       "21. 'Sedan'\n",
       "22. 'suv'\n",
       "23. 'SUV'\n",
       "24. 'wagon'\n",
       "25. 'Wagon'\n",
       "26. 'xtracab'\n",
       "27. 'Xtracab'\n",
       "\n",
       "\n"
      ],
      "text/plain": [
       " [1] \"\"             \"access cab\"   \"Access Cab\"   \"convertible\"  \"Convertible\" \n",
       " [6] \"coupe\"        \"Coupe\"        \"crewmax cab\"  \"CrewMax Cab\"  \"double cab\"  \n",
       "[11] \"Double Cab\"   \"extended cab\" \"Extended Cab\" \"hatchback\"    \"Hatchback\"   \n",
       "[16] \"minivan\"      \"Minivan\"      \"regular cab\"  \"Regular Cab\"  \"sedan\"       \n",
       "[21] \"Sedan\"        \"suv\"          \"SUV\"          \"wagon\"        \"Wagon\"       \n",
       "[26] \"xtracab\"      \"Xtracab\"     "
      ]
     },
     "metadata": {},
     "output_type": "display_data"
    }
   ],
   "source": [
    "sort(unique(toyota_data$body))"
   ]
  },
  {
   "cell_type": "code",
   "execution_count": 15,
   "id": "0b2641fb-5d4e-4d9f-b344-34ca492c8d13",
   "metadata": {},
   "outputs": [
    {
     "data": {
      "text/html": [
       "<style>\n",
       ".list-inline {list-style: none; margin:0; padding: 0}\n",
       ".list-inline>li {display: inline-block}\n",
       ".list-inline>li:not(:last-child)::after {content: \"\\00b7\"; padding: 0 .5ex}\n",
       "</style>\n",
       "<ol class=list-inline><li>'ab'</li><li>'al'</li><li>'az'</li><li>'ca'</li><li>'co'</li><li>'fl'</li><li>'ga'</li><li>'hi'</li><li>'il'</li><li>'in'</li><li>'la'</li><li>'ma'</li><li>'md'</li><li>'mi'</li><li>'mn'</li><li>'mo'</li><li>'ms'</li><li>'nc'</li><li>'ne'</li><li>'nj'</li><li>'nm'</li><li>'nv'</li><li>'ny'</li><li>'oh'</li><li>'ok'</li><li>'on'</li><li>'or'</li><li>'pa'</li><li>'pr'</li><li>'qc'</li><li>'sc'</li><li>'tn'</li><li>'tx'</li><li>'ut'</li><li>'va'</li><li>'wa'</li><li>'wi'</li></ol>\n"
      ],
      "text/latex": [
       "\\begin{enumerate*}\n",
       "\\item 'ab'\n",
       "\\item 'al'\n",
       "\\item 'az'\n",
       "\\item 'ca'\n",
       "\\item 'co'\n",
       "\\item 'fl'\n",
       "\\item 'ga'\n",
       "\\item 'hi'\n",
       "\\item 'il'\n",
       "\\item 'in'\n",
       "\\item 'la'\n",
       "\\item 'ma'\n",
       "\\item 'md'\n",
       "\\item 'mi'\n",
       "\\item 'mn'\n",
       "\\item 'mo'\n",
       "\\item 'ms'\n",
       "\\item 'nc'\n",
       "\\item 'ne'\n",
       "\\item 'nj'\n",
       "\\item 'nm'\n",
       "\\item 'nv'\n",
       "\\item 'ny'\n",
       "\\item 'oh'\n",
       "\\item 'ok'\n",
       "\\item 'on'\n",
       "\\item 'or'\n",
       "\\item 'pa'\n",
       "\\item 'pr'\n",
       "\\item 'qc'\n",
       "\\item 'sc'\n",
       "\\item 'tn'\n",
       "\\item 'tx'\n",
       "\\item 'ut'\n",
       "\\item 'va'\n",
       "\\item 'wa'\n",
       "\\item 'wi'\n",
       "\\end{enumerate*}\n"
      ],
      "text/markdown": [
       "1. 'ab'\n",
       "2. 'al'\n",
       "3. 'az'\n",
       "4. 'ca'\n",
       "5. 'co'\n",
       "6. 'fl'\n",
       "7. 'ga'\n",
       "8. 'hi'\n",
       "9. 'il'\n",
       "10. 'in'\n",
       "11. 'la'\n",
       "12. 'ma'\n",
       "13. 'md'\n",
       "14. 'mi'\n",
       "15. 'mn'\n",
       "16. 'mo'\n",
       "17. 'ms'\n",
       "18. 'nc'\n",
       "19. 'ne'\n",
       "20. 'nj'\n",
       "21. 'nm'\n",
       "22. 'nv'\n",
       "23. 'ny'\n",
       "24. 'oh'\n",
       "25. 'ok'\n",
       "26. 'on'\n",
       "27. 'or'\n",
       "28. 'pa'\n",
       "29. 'pr'\n",
       "30. 'qc'\n",
       "31. 'sc'\n",
       "32. 'tn'\n",
       "33. 'tx'\n",
       "34. 'ut'\n",
       "35. 'va'\n",
       "36. 'wa'\n",
       "37. 'wi'\n",
       "\n",
       "\n"
      ],
      "text/plain": [
       " [1] \"ab\" \"al\" \"az\" \"ca\" \"co\" \"fl\" \"ga\" \"hi\" \"il\" \"in\" \"la\" \"ma\" \"md\" \"mi\" \"mn\"\n",
       "[16] \"mo\" \"ms\" \"nc\" \"ne\" \"nj\" \"nm\" \"nv\" \"ny\" \"oh\" \"ok\" \"on\" \"or\" \"pa\" \"pr\" \"qc\"\n",
       "[31] \"sc\" \"tn\" \"tx\" \"ut\" \"va\" \"wa\" \"wi\""
      ]
     },
     "metadata": {},
     "output_type": "display_data"
    }
   ],
   "source": [
    "sort(unique(toyota_data$state))"
   ]
  },
  {
   "cell_type": "markdown",
   "id": "b0eec8a1-9b51-4f64-bcbe-9c5ebe9600bd",
   "metadata": {},
   "source": [
    "### Filter For U.S. States Only\n",
    "### Canadian codes were present"
   ]
  },
  {
   "cell_type": "code",
   "execution_count": 16,
   "id": "c3629c3e-ae74-4413-a783-898a1d052f7b",
   "metadata": {},
   "outputs": [
    {
     "data": {
      "text/html": [
       "<style>\n",
       ".list-inline {list-style: none; margin:0; padding: 0}\n",
       ".list-inline>li {display: inline-block}\n",
       ".list-inline>li:not(:last-child)::after {content: \"\\00b7\"; padding: 0 .5ex}\n",
       "</style>\n",
       "<ol class=list-inline><li>'al'</li><li>'az'</li><li>'ca'</li><li>'co'</li><li>'fl'</li><li>'ga'</li><li>'hi'</li><li>'il'</li><li>'in'</li><li>'la'</li><li>'ma'</li><li>'md'</li><li>'mi'</li><li>'mn'</li><li>'mo'</li><li>'ms'</li><li>'nc'</li><li>'ne'</li><li>'nj'</li><li>'nm'</li><li>'nv'</li><li>'ny'</li><li>'oh'</li><li>'ok'</li><li>'or'</li><li>'pa'</li><li>'sc'</li><li>'tn'</li><li>'tx'</li><li>'ut'</li><li>'va'</li><li>'wa'</li><li>'wi'</li></ol>\n"
      ],
      "text/latex": [
       "\\begin{enumerate*}\n",
       "\\item 'al'\n",
       "\\item 'az'\n",
       "\\item 'ca'\n",
       "\\item 'co'\n",
       "\\item 'fl'\n",
       "\\item 'ga'\n",
       "\\item 'hi'\n",
       "\\item 'il'\n",
       "\\item 'in'\n",
       "\\item 'la'\n",
       "\\item 'ma'\n",
       "\\item 'md'\n",
       "\\item 'mi'\n",
       "\\item 'mn'\n",
       "\\item 'mo'\n",
       "\\item 'ms'\n",
       "\\item 'nc'\n",
       "\\item 'ne'\n",
       "\\item 'nj'\n",
       "\\item 'nm'\n",
       "\\item 'nv'\n",
       "\\item 'ny'\n",
       "\\item 'oh'\n",
       "\\item 'ok'\n",
       "\\item 'or'\n",
       "\\item 'pa'\n",
       "\\item 'sc'\n",
       "\\item 'tn'\n",
       "\\item 'tx'\n",
       "\\item 'ut'\n",
       "\\item 'va'\n",
       "\\item 'wa'\n",
       "\\item 'wi'\n",
       "\\end{enumerate*}\n"
      ],
      "text/markdown": [
       "1. 'al'\n",
       "2. 'az'\n",
       "3. 'ca'\n",
       "4. 'co'\n",
       "5. 'fl'\n",
       "6. 'ga'\n",
       "7. 'hi'\n",
       "8. 'il'\n",
       "9. 'in'\n",
       "10. 'la'\n",
       "11. 'ma'\n",
       "12. 'md'\n",
       "13. 'mi'\n",
       "14. 'mn'\n",
       "15. 'mo'\n",
       "16. 'ms'\n",
       "17. 'nc'\n",
       "18. 'ne'\n",
       "19. 'nj'\n",
       "20. 'nm'\n",
       "21. 'nv'\n",
       "22. 'ny'\n",
       "23. 'oh'\n",
       "24. 'ok'\n",
       "25. 'or'\n",
       "26. 'pa'\n",
       "27. 'sc'\n",
       "28. 'tn'\n",
       "29. 'tx'\n",
       "30. 'ut'\n",
       "31. 'va'\n",
       "32. 'wa'\n",
       "33. 'wi'\n",
       "\n",
       "\n"
      ],
      "text/plain": [
       " [1] \"al\" \"az\" \"ca\" \"co\" \"fl\" \"ga\" \"hi\" \"il\" \"in\" \"la\" \"ma\" \"md\" \"mi\" \"mn\" \"mo\"\n",
       "[16] \"ms\" \"nc\" \"ne\" \"nj\" \"nm\" \"nv\" \"ny\" \"oh\" \"ok\" \"or\" \"pa\" \"sc\" \"tn\" \"tx\" \"ut\"\n",
       "[31] \"va\" \"wa\" \"wi\""
      ]
     },
     "metadata": {},
     "output_type": "display_data"
    }
   ],
   "source": [
    "# Remove Canadian provinces using known U.S. state codes\n",
    "us_states <- c(\n",
    "  \"al\", \"ak\", \"az\", \"ar\", \"ca\", \"co\", \"ct\", \"de\", \"fl\", \"ga\", \"hi\", \"id\", \"il\", \"in\", \"ia\", \"ks\", \"ky\", \"la\", \"me\", \"md\",\n",
    "  \"ma\", \"mi\", \"mn\", \"ms\", \"mo\", \"mt\", \"ne\", \"nv\", \"nh\", \"nj\", \"nm\", \"ny\", \"nc\", \"nd\", \"oh\", \"ok\", \"or\", \"pa\", \"ri\", \"sc\",\n",
    "  \"sd\", \"tn\", \"tx\", \"ut\", \"vt\", \"va\", \"wa\", \"wv\", \"wi\", \"wy\"\n",
    ")\n",
    "toyota_data <- toyota_data %>%\n",
    "  filter(state %in% us_states)\n",
    "\n",
    "# Confirm updated list of states\n",
    "sort(unique(toyota_data$state))"
   ]
  },
  {
   "cell_type": "markdown",
   "id": "df999e1f-2b06-4ff7-a5f3-c37e06cbeb4e",
   "metadata": {},
   "source": [
    "### Standardize Text Columns"
   ]
  },
  {
   "cell_type": "code",
   "execution_count": 17,
   "id": "35079761-a132-42d2-a5aa-8d0ce79d4d46",
   "metadata": {},
   "outputs": [
    {
     "data": {
      "text/html": [
       "<style>\n",
       ".list-inline {list-style: none; margin:0; padding: 0}\n",
       ".list-inline>li {display: inline-block}\n",
       ".list-inline>li:not(:last-child)::after {content: \"\\00b7\"; padding: 0 .5ex}\n",
       "</style>\n",
       "<ol class=list-inline><li>''</li><li>'Access Cab'</li><li>'Convertible'</li><li>'Coupe'</li><li>'Crewmax Cab'</li><li>'Double Cab'</li><li>'Extended Cab'</li><li>'Hatchback'</li><li>'Minivan'</li><li>'Regular Cab'</li><li>'Sedan'</li><li>'Suv'</li><li>'Wagon'</li><li>'Xtracab'</li></ol>\n"
      ],
      "text/latex": [
       "\\begin{enumerate*}\n",
       "\\item ''\n",
       "\\item 'Access Cab'\n",
       "\\item 'Convertible'\n",
       "\\item 'Coupe'\n",
       "\\item 'Crewmax Cab'\n",
       "\\item 'Double Cab'\n",
       "\\item 'Extended Cab'\n",
       "\\item 'Hatchback'\n",
       "\\item 'Minivan'\n",
       "\\item 'Regular Cab'\n",
       "\\item 'Sedan'\n",
       "\\item 'Suv'\n",
       "\\item 'Wagon'\n",
       "\\item 'Xtracab'\n",
       "\\end{enumerate*}\n"
      ],
      "text/markdown": [
       "1. ''\n",
       "2. 'Access Cab'\n",
       "3. 'Convertible'\n",
       "4. 'Coupe'\n",
       "5. 'Crewmax Cab'\n",
       "6. 'Double Cab'\n",
       "7. 'Extended Cab'\n",
       "8. 'Hatchback'\n",
       "9. 'Minivan'\n",
       "10. 'Regular Cab'\n",
       "11. 'Sedan'\n",
       "12. 'Suv'\n",
       "13. 'Wagon'\n",
       "14. 'Xtracab'\n",
       "\n",
       "\n"
      ],
      "text/plain": [
       " [1] \"\"             \"Access Cab\"   \"Convertible\"  \"Coupe\"        \"Crewmax Cab\" \n",
       " [6] \"Double Cab\"   \"Extended Cab\" \"Hatchback\"    \"Minivan\"      \"Regular Cab\" \n",
       "[11] \"Sedan\"        \"Suv\"          \"Wagon\"        \"Xtracab\"     "
      ]
     },
     "metadata": {},
     "output_type": "display_data"
    }
   ],
   "source": [
    "# CSV isnt showing an issue in body column but im getting lower case - upper case issues in R\n",
    "# Clean body column (remove leading/trailing whitespace and title case)\n",
    "toyota_data$body <- str_to_title(str_trim(toyota_data$body))\n",
    "sort(unique(toyota_data$body))"
   ]
  },
  {
   "cell_type": "code",
   "execution_count": 18,
   "id": "46189b0d-14df-45ba-a019-f207f8dae639",
   "metadata": {},
   "outputs": [
    {
     "data": {
      "text/html": [
       "<style>\n",
       ".list-inline {list-style: none; margin:0; padding: 0}\n",
       ".list-inline>li {display: inline-block}\n",
       ".list-inline>li:not(:last-child)::after {content: \"\\00b7\"; padding: 0 .5ex}\n",
       "</style>\n",
       "<ol class=list-inline><li>'4runner'</li><li>'Avalon'</li><li>'Avalon Hybrid'</li><li>'Camry'</li><li>'Camry Hybrid'</li><li>'Camry Solara'</li><li>'Celica'</li><li>'Corolla'</li><li>'Echo'</li><li>'Fj Cruiser'</li><li>'Highlander'</li><li>'Highlander Hybrid'</li><li>'Land Cruiser'</li><li>'Matrix'</li><li>'Mr2 Spyder'</li><li>'Paseo'</li><li>'Pickup'</li><li>'Previa'</li><li>'Prius'</li><li>'Prius C'</li><li>'Prius Plug-In'</li><li>'Prius V'</li><li>'Rav4'</li><li>'Sequoia'</li><li>'Sienna'</li><li>'T100'</li><li>'Tacoma'</li><li>'Tercel'</li><li>'Tundra'</li><li>'Venza'</li><li>'Yaris'</li></ol>\n"
      ],
      "text/latex": [
       "\\begin{enumerate*}\n",
       "\\item '4runner'\n",
       "\\item 'Avalon'\n",
       "\\item 'Avalon Hybrid'\n",
       "\\item 'Camry'\n",
       "\\item 'Camry Hybrid'\n",
       "\\item 'Camry Solara'\n",
       "\\item 'Celica'\n",
       "\\item 'Corolla'\n",
       "\\item 'Echo'\n",
       "\\item 'Fj Cruiser'\n",
       "\\item 'Highlander'\n",
       "\\item 'Highlander Hybrid'\n",
       "\\item 'Land Cruiser'\n",
       "\\item 'Matrix'\n",
       "\\item 'Mr2 Spyder'\n",
       "\\item 'Paseo'\n",
       "\\item 'Pickup'\n",
       "\\item 'Previa'\n",
       "\\item 'Prius'\n",
       "\\item 'Prius C'\n",
       "\\item 'Prius Plug-In'\n",
       "\\item 'Prius V'\n",
       "\\item 'Rav4'\n",
       "\\item 'Sequoia'\n",
       "\\item 'Sienna'\n",
       "\\item 'T100'\n",
       "\\item 'Tacoma'\n",
       "\\item 'Tercel'\n",
       "\\item 'Tundra'\n",
       "\\item 'Venza'\n",
       "\\item 'Yaris'\n",
       "\\end{enumerate*}\n"
      ],
      "text/markdown": [
       "1. '4runner'\n",
       "2. 'Avalon'\n",
       "3. 'Avalon Hybrid'\n",
       "4. 'Camry'\n",
       "5. 'Camry Hybrid'\n",
       "6. 'Camry Solara'\n",
       "7. 'Celica'\n",
       "8. 'Corolla'\n",
       "9. 'Echo'\n",
       "10. 'Fj Cruiser'\n",
       "11. 'Highlander'\n",
       "12. 'Highlander Hybrid'\n",
       "13. 'Land Cruiser'\n",
       "14. 'Matrix'\n",
       "15. 'Mr2 Spyder'\n",
       "16. 'Paseo'\n",
       "17. 'Pickup'\n",
       "18. 'Previa'\n",
       "19. 'Prius'\n",
       "20. 'Prius C'\n",
       "21. 'Prius Plug-In'\n",
       "22. 'Prius V'\n",
       "23. 'Rav4'\n",
       "24. 'Sequoia'\n",
       "25. 'Sienna'\n",
       "26. 'T100'\n",
       "27. 'Tacoma'\n",
       "28. 'Tercel'\n",
       "29. 'Tundra'\n",
       "30. 'Venza'\n",
       "31. 'Yaris'\n",
       "\n",
       "\n"
      ],
      "text/plain": [
       " [1] \"4runner\"           \"Avalon\"            \"Avalon Hybrid\"    \n",
       " [4] \"Camry\"             \"Camry Hybrid\"      \"Camry Solara\"     \n",
       " [7] \"Celica\"            \"Corolla\"           \"Echo\"             \n",
       "[10] \"Fj Cruiser\"        \"Highlander\"        \"Highlander Hybrid\"\n",
       "[13] \"Land Cruiser\"      \"Matrix\"            \"Mr2 Spyder\"       \n",
       "[16] \"Paseo\"             \"Pickup\"            \"Previa\"           \n",
       "[19] \"Prius\"             \"Prius C\"           \"Prius Plug-In\"    \n",
       "[22] \"Prius V\"           \"Rav4\"              \"Sequoia\"          \n",
       "[25] \"Sienna\"            \"T100\"              \"Tacoma\"           \n",
       "[28] \"Tercel\"            \"Tundra\"            \"Venza\"            \n",
       "[31] \"Yaris\"            "
      ]
     },
     "metadata": {},
     "output_type": "display_data"
    }
   ],
   "source": [
    "# Clean model column (same as above)\n",
    "toyota_data$model <- str_to_title(str_trim(toyota_data$model))\n",
    "sort(unique(toyota_data$model))"
   ]
  },
  {
   "cell_type": "markdown",
   "id": "36bf6d37-addb-4284-8f8c-66898c89ac52",
   "metadata": {},
   "source": [
    "## Visualization 1: Average Selling Price by State"
   ]
  },
  {
   "cell_type": "code",
   "execution_count": 19,
   "id": "2f14f0bc-fb7b-4b8b-a156-5c128b52ddb3",
   "metadata": {},
   "outputs": [
    {
     "data": {
      "text/html": [
       "<table class=\"dataframe\">\n",
       "<caption>A data.frame: 33 × 2</caption>\n",
       "<thead>\n",
       "\t<tr><th scope=col>state</th><th scope=col>n</th></tr>\n",
       "\t<tr><th scope=col>&lt;chr&gt;</th><th scope=col>&lt;int&gt;</th></tr>\n",
       "</thead>\n",
       "<tbody>\n",
       "\t<tr><td>fl</td><td>8613</td></tr>\n",
       "\t<tr><td>ca</td><td>4527</td></tr>\n",
       "\t<tr><td>pa</td><td>3046</td></tr>\n",
       "\t<tr><td>ga</td><td>2944</td></tr>\n",
       "\t<tr><td>oh</td><td>2426</td></tr>\n",
       "\t<tr><td>tx</td><td>2016</td></tr>\n",
       "\t<tr><td>nc</td><td>1753</td></tr>\n",
       "\t<tr><td>nj</td><td>1731</td></tr>\n",
       "\t<tr><td>md</td><td>1201</td></tr>\n",
       "\t<tr><td>tn</td><td> 946</td></tr>\n",
       "\t<tr><td>mo</td><td> 906</td></tr>\n",
       "\t<tr><td>nv</td><td> 877</td></tr>\n",
       "\t<tr><td>az</td><td> 869</td></tr>\n",
       "\t<tr><td>ma</td><td> 863</td></tr>\n",
       "\t<tr><td>wi</td><td> 829</td></tr>\n",
       "\t<tr><td>va</td><td> 798</td></tr>\n",
       "\t<tr><td>wa</td><td> 731</td></tr>\n",
       "\t<tr><td>co</td><td> 568</td></tr>\n",
       "\t<tr><td>mn</td><td> 553</td></tr>\n",
       "\t<tr><td>il</td><td> 523</td></tr>\n",
       "\t<tr><td>sc</td><td> 304</td></tr>\n",
       "\t<tr><td>ne</td><td> 250</td></tr>\n",
       "\t<tr><td>mi</td><td> 245</td></tr>\n",
       "\t<tr><td>in</td><td> 220</td></tr>\n",
       "\t<tr><td>ny</td><td> 200</td></tr>\n",
       "\t<tr><td>ms</td><td> 191</td></tr>\n",
       "\t<tr><td>la</td><td> 115</td></tr>\n",
       "\t<tr><td>ut</td><td>  74</td></tr>\n",
       "\t<tr><td>or</td><td>  63</td></tr>\n",
       "\t<tr><td>hi</td><td>  51</td></tr>\n",
       "\t<tr><td>nm</td><td>   9</td></tr>\n",
       "\t<tr><td>ok</td><td>   2</td></tr>\n",
       "\t<tr><td>al</td><td>   1</td></tr>\n",
       "</tbody>\n",
       "</table>\n"
      ],
      "text/latex": [
       "A data.frame: 33 × 2\n",
       "\\begin{tabular}{ll}\n",
       " state & n\\\\\n",
       " <chr> & <int>\\\\\n",
       "\\hline\n",
       "\t fl & 8613\\\\\n",
       "\t ca & 4527\\\\\n",
       "\t pa & 3046\\\\\n",
       "\t ga & 2944\\\\\n",
       "\t oh & 2426\\\\\n",
       "\t tx & 2016\\\\\n",
       "\t nc & 1753\\\\\n",
       "\t nj & 1731\\\\\n",
       "\t md & 1201\\\\\n",
       "\t tn &  946\\\\\n",
       "\t mo &  906\\\\\n",
       "\t nv &  877\\\\\n",
       "\t az &  869\\\\\n",
       "\t ma &  863\\\\\n",
       "\t wi &  829\\\\\n",
       "\t va &  798\\\\\n",
       "\t wa &  731\\\\\n",
       "\t co &  568\\\\\n",
       "\t mn &  553\\\\\n",
       "\t il &  523\\\\\n",
       "\t sc &  304\\\\\n",
       "\t ne &  250\\\\\n",
       "\t mi &  245\\\\\n",
       "\t in &  220\\\\\n",
       "\t ny &  200\\\\\n",
       "\t ms &  191\\\\\n",
       "\t la &  115\\\\\n",
       "\t ut &   74\\\\\n",
       "\t or &   63\\\\\n",
       "\t hi &   51\\\\\n",
       "\t nm &    9\\\\\n",
       "\t ok &    2\\\\\n",
       "\t al &    1\\\\\n",
       "\\end{tabular}\n"
      ],
      "text/markdown": [
       "\n",
       "A data.frame: 33 × 2\n",
       "\n",
       "| state &lt;chr&gt; | n &lt;int&gt; |\n",
       "|---|---|\n",
       "| fl | 8613 |\n",
       "| ca | 4527 |\n",
       "| pa | 3046 |\n",
       "| ga | 2944 |\n",
       "| oh | 2426 |\n",
       "| tx | 2016 |\n",
       "| nc | 1753 |\n",
       "| nj | 1731 |\n",
       "| md | 1201 |\n",
       "| tn |  946 |\n",
       "| mo |  906 |\n",
       "| nv |  877 |\n",
       "| az |  869 |\n",
       "| ma |  863 |\n",
       "| wi |  829 |\n",
       "| va |  798 |\n",
       "| wa |  731 |\n",
       "| co |  568 |\n",
       "| mn |  553 |\n",
       "| il |  523 |\n",
       "| sc |  304 |\n",
       "| ne |  250 |\n",
       "| mi |  245 |\n",
       "| in |  220 |\n",
       "| ny |  200 |\n",
       "| ms |  191 |\n",
       "| la |  115 |\n",
       "| ut |   74 |\n",
       "| or |   63 |\n",
       "| hi |   51 |\n",
       "| nm |    9 |\n",
       "| ok |    2 |\n",
       "| al |    1 |\n",
       "\n"
      ],
      "text/plain": [
       "   state n   \n",
       "1  fl    8613\n",
       "2  ca    4527\n",
       "3  pa    3046\n",
       "4  ga    2944\n",
       "5  oh    2426\n",
       "6  tx    2016\n",
       "7  nc    1753\n",
       "8  nj    1731\n",
       "9  md    1201\n",
       "10 tn     946\n",
       "11 mo     906\n",
       "12 nv     877\n",
       "13 az     869\n",
       "14 ma     863\n",
       "15 wi     829\n",
       "16 va     798\n",
       "17 wa     731\n",
       "18 co     568\n",
       "19 mn     553\n",
       "20 il     523\n",
       "21 sc     304\n",
       "22 ne     250\n",
       "23 mi     245\n",
       "24 in     220\n",
       "25 ny     200\n",
       "26 ms     191\n",
       "27 la     115\n",
       "28 ut      74\n",
       "29 or      63\n",
       "30 hi      51\n",
       "31 nm       9\n",
       "32 ok       2\n",
       "33 al       1"
      ]
     },
     "metadata": {},
     "output_type": "display_data"
    }
   ],
   "source": [
    "# Check sample size per state — some like AL/OK/NM may skew average\n",
    "toyota_data %>% count(state) %>% arrange(desc(n))"
   ]
  },
  {
   "cell_type": "code",
   "execution_count": 20,
   "id": "8418b80b-4276-4d7e-855a-68f9e3c17b08",
   "metadata": {},
   "outputs": [],
   "source": [
    "avg_price_state <- toyota_data %>%\n",
    "  group_by(state) %>%\n",
    "  summarise(avg_price = mean(sellingprice, na.rm = TRUE))"
   ]
  },
  {
   "cell_type": "code",
   "execution_count": 21,
   "id": "c9b822ac-42e3-46ea-99fb-c3bdaf1ebe8d",
   "metadata": {},
   "outputs": [],
   "source": [
    "# Only include states with at least 30 listings\n",
    "filtered_avg_price <- toyota_data %>%\n",
    "  group_by(state) %>%\n",
    "  filter(n() >= 30) %>%\n",
    "  summarise(avg_price = mean(sellingprice, na.rm = TRUE))"
   ]
  },
  {
   "cell_type": "code",
   "execution_count": 22,
   "id": "3e667054-a385-421f-8adf-1e4d1f9302c7",
   "metadata": {},
   "outputs": [
    {
     "data": {
      "image/png": "[encoded data removed]",
      "text/plain": [
       "plot without title"
      ]
     },
     "metadata": {
      "image/png": {
       "height": 420,
       "width": 420
      }
     },
     "output_type": "display_data"
    }
   ],
   "source": [
    "# Plot\n",
    "ggplot(filtered_avg_price, aes(x = reorder(state, avg_price), y = avg_price)) +\n",
    "  geom_col(fill = \"steelblue\") +\n",
    "  coord_flip() +\n",
    "  labs(title = \"Average Toyota Selling Price by State\",\n",
    "       x = \"State\",\n",
    "       y = \"Average Price ($)\") +\n",
    "  theme_minimal()"
   ]
  },
  {
   "cell_type": "markdown",
   "id": "69098051-f6fd-4b50-b258-b1d0bcad37fa",
   "metadata": {},
   "source": [
    "## Visualization 2: Top 10 Toyota Models Sold"
   ]
  },
  {
   "cell_type": "code",
   "execution_count": 23,
   "id": "18b11ef5-a319-4d23-a95c-41e1a6d356c1",
   "metadata": {},
   "outputs": [
    {
     "data": {
      "text/html": [
       "<table class=\"dataframe\">\n",
       "<caption>A data.frame: 31 × 2</caption>\n",
       "<thead>\n",
       "\t<tr><th scope=col>model</th><th scope=col>n</th></tr>\n",
       "\t<tr><th scope=col>&lt;chr&gt;</th><th scope=col>&lt;int&gt;</th></tr>\n",
       "</thead>\n",
       "<tbody>\n",
       "\t<tr><td>Camry            </td><td>12287</td></tr>\n",
       "\t<tr><td>Corolla          </td><td> 7094</td></tr>\n",
       "\t<tr><td>Rav4             </td><td> 3140</td></tr>\n",
       "\t<tr><td>Sienna           </td><td> 2736</td></tr>\n",
       "\t<tr><td>Highlander       </td><td> 2129</td></tr>\n",
       "\t<tr><td>Prius            </td><td> 1795</td></tr>\n",
       "\t<tr><td>Tundra           </td><td> 1312</td></tr>\n",
       "\t<tr><td>4runner          </td><td> 1277</td></tr>\n",
       "\t<tr><td>Avalon           </td><td> 1096</td></tr>\n",
       "\t<tr><td>Tacoma           </td><td> 1080</td></tr>\n",
       "\t<tr><td>Yaris            </td><td>  959</td></tr>\n",
       "\t<tr><td>Camry Hybrid     </td><td>  587</td></tr>\n",
       "\t<tr><td>Sequoia          </td><td>  569</td></tr>\n",
       "\t<tr><td>Venza            </td><td>  554</td></tr>\n",
       "\t<tr><td>Fj Cruiser       </td><td>  366</td></tr>\n",
       "\t<tr><td>Camry Solara     </td><td>  351</td></tr>\n",
       "\t<tr><td>Matrix           </td><td>  331</td></tr>\n",
       "\t<tr><td>Highlander Hybrid</td><td>  197</td></tr>\n",
       "\t<tr><td>Prius C          </td><td>  108</td></tr>\n",
       "\t<tr><td>Land Cruiser     </td><td>  105</td></tr>\n",
       "\t<tr><td>Prius V          </td><td>  102</td></tr>\n",
       "\t<tr><td>Celica           </td><td>   90</td></tr>\n",
       "\t<tr><td>Echo             </td><td>   46</td></tr>\n",
       "\t<tr><td>Prius Plug-In    </td><td>   45</td></tr>\n",
       "\t<tr><td>Avalon Hybrid    </td><td>   40</td></tr>\n",
       "\t<tr><td>Tercel           </td><td>   18</td></tr>\n",
       "\t<tr><td>Mr2 Spyder       </td><td>   15</td></tr>\n",
       "\t<tr><td>Pickup           </td><td>    8</td></tr>\n",
       "\t<tr><td>T100             </td><td>    4</td></tr>\n",
       "\t<tr><td>Previa           </td><td>    3</td></tr>\n",
       "\t<tr><td>Paseo            </td><td>    1</td></tr>\n",
       "</tbody>\n",
       "</table>\n"
      ],
      "text/latex": [
       "A data.frame: 31 × 2\n",
       "\\begin{tabular}{ll}\n",
       " model & n\\\\\n",
       " <chr> & <int>\\\\\n",
       "\\hline\n",
       "\t Camry             & 12287\\\\\n",
       "\t Corolla           &  7094\\\\\n",
       "\t Rav4              &  3140\\\\\n",
       "\t Sienna            &  2736\\\\\n",
       "\t Highlander        &  2129\\\\\n",
       "\t Prius             &  1795\\\\\n",
       "\t Tundra            &  1312\\\\\n",
       "\t 4runner           &  1277\\\\\n",
       "\t Avalon            &  1096\\\\\n",
       "\t Tacoma            &  1080\\\\\n",
       "\t Yaris             &   959\\\\\n",
       "\t Camry Hybrid      &   587\\\\\n",
       "\t Sequoia           &   569\\\\\n",
       "\t Venza             &   554\\\\\n",
       "\t Fj Cruiser        &   366\\\\\n",
       "\t Camry Solara      &   351\\\\\n",
       "\t Matrix            &   331\\\\\n",
       "\t Highlander Hybrid &   197\\\\\n",
       "\t Prius C           &   108\\\\\n",
       "\t Land Cruiser      &   105\\\\\n",
       "\t Prius V           &   102\\\\\n",
       "\t Celica            &    90\\\\\n",
       "\t Echo              &    46\\\\\n",
       "\t Prius Plug-In     &    45\\\\\n",
       "\t Avalon Hybrid     &    40\\\\\n",
       "\t Tercel            &    18\\\\\n",
       "\t Mr2 Spyder        &    15\\\\\n",
       "\t Pickup            &     8\\\\\n",
       "\t T100              &     4\\\\\n",
       "\t Previa            &     3\\\\\n",
       "\t Paseo             &     1\\\\\n",
       "\\end{tabular}\n"
      ],
      "text/markdown": [
       "\n",
       "A data.frame: 31 × 2\n",
       "\n",
       "| model &lt;chr&gt; | n &lt;int&gt; |\n",
       "|---|---|\n",
       "| Camry             | 12287 |\n",
       "| Corolla           |  7094 |\n",
       "| Rav4              |  3140 |\n",
       "| Sienna            |  2736 |\n",
       "| Highlander        |  2129 |\n",
       "| Prius             |  1795 |\n",
       "| Tundra            |  1312 |\n",
       "| 4runner           |  1277 |\n",
       "| Avalon            |  1096 |\n",
       "| Tacoma            |  1080 |\n",
       "| Yaris             |   959 |\n",
       "| Camry Hybrid      |   587 |\n",
       "| Sequoia           |   569 |\n",
       "| Venza             |   554 |\n",
       "| Fj Cruiser        |   366 |\n",
       "| Camry Solara      |   351 |\n",
       "| Matrix            |   331 |\n",
       "| Highlander Hybrid |   197 |\n",
       "| Prius C           |   108 |\n",
       "| Land Cruiser      |   105 |\n",
       "| Prius V           |   102 |\n",
       "| Celica            |    90 |\n",
       "| Echo              |    46 |\n",
       "| Prius Plug-In     |    45 |\n",
       "| Avalon Hybrid     |    40 |\n",
       "| Tercel            |    18 |\n",
       "| Mr2 Spyder        |    15 |\n",
       "| Pickup            |     8 |\n",
       "| T100              |     4 |\n",
       "| Previa            |     3 |\n",
       "| Paseo             |     1 |\n",
       "\n"
      ],
      "text/plain": [
       "   model             n    \n",
       "1  Camry             12287\n",
       "2  Corolla            7094\n",
       "3  Rav4               3140\n",
       "4  Sienna             2736\n",
       "5  Highlander         2129\n",
       "6  Prius              1795\n",
       "7  Tundra             1312\n",
       "8  4runner            1277\n",
       "9  Avalon             1096\n",
       "10 Tacoma             1080\n",
       "11 Yaris               959\n",
       "12 Camry Hybrid        587\n",
       "13 Sequoia             569\n",
       "14 Venza               554\n",
       "15 Fj Cruiser          366\n",
       "16 Camry Solara        351\n",
       "17 Matrix              331\n",
       "18 Highlander Hybrid   197\n",
       "19 Prius C             108\n",
       "20 Land Cruiser        105\n",
       "21 Prius V             102\n",
       "22 Celica               90\n",
       "23 Echo                 46\n",
       "24 Prius Plug-In        45\n",
       "25 Avalon Hybrid        40\n",
       "26 Tercel               18\n",
       "27 Mr2 Spyder           15\n",
       "28 Pickup                8\n",
       "29 T100                  4\n",
       "30 Previa                3\n",
       "31 Paseo                 1"
      ]
     },
     "metadata": {},
     "output_type": "display_data"
    }
   ],
   "source": [
    "# Count all model appearances; Verify skews\n",
    "toyota_data %>% count(model) %>% arrange(desc(n))"
   ]
  },
  {
   "cell_type": "code",
   "execution_count": 24,
   "id": "382f4110-c15e-4308-8076-2dd0618c99c9",
   "metadata": {},
   "outputs": [],
   "source": [
    "# Get top 10 models\n",
    "top_models <- toyota_data %>%\n",
    "  count(model, sort = TRUE) %>%\n",
    "  top_n(10, n)"
   ]
  },
  {
   "cell_type": "code",
   "execution_count": 25,
   "id": "711c25ee-1488-4a58-a9fe-3249e141c666",
   "metadata": {},
   "outputs": [
    {
     "data": {
      "image/png": "[encoded data removed]",
      "text/plain": [
       "plot without title"
      ]
     },
     "metadata": {
      "image/png": {
       "height": 420,
       "width": 420
      }
     },
     "output_type": "display_data"
    }
   ],
   "source": [
    "# Plot\n",
    "ggplot(top_models, aes(x = reorder(model, n), y = n)) +\n",
    "  geom_col(fill = \"darkgreen\") +\n",
    "  coord_flip() +\n",
    "  labs(title = \"Top 10 Most Sold Toyota Models\",\n",
    "       x = \"Model\",\n",
    "       y = \"Number of Listings\") +\n",
    "  theme_minimal()"
   ]
  },
  {
   "cell_type": "markdown",
   "id": "95bb8347-dcb4-4520-b464-ed7aa9b13468",
   "metadata": {},
   "source": [
    "### Visualization 3: Listings By Body Type"
   ]
  },
  {
   "cell_type": "code",
   "execution_count": 26,
   "id": "f098858b-25f2-43ce-8cbe-6732257cb0b9",
   "metadata": {},
   "outputs": [
    {
     "data": {
      "text/html": [
       "<table class=\"dataframe\">\n",
       "<caption>A data.frame: 14 × 2</caption>\n",
       "<thead>\n",
       "\t<tr><th scope=col>body</th><th scope=col>n</th></tr>\n",
       "\t<tr><th scope=col>&lt;chr&gt;</th><th scope=col>&lt;int&gt;</th></tr>\n",
       "</thead>\n",
       "<tbody>\n",
       "\t<tr><td>Sedan       </td><td>21503</td></tr>\n",
       "\t<tr><td>Suv         </td><td> 7783</td></tr>\n",
       "\t<tr><td>Hatchback   </td><td> 2764</td></tr>\n",
       "\t<tr><td>Minivan     </td><td> 2716</td></tr>\n",
       "\t<tr><td>Double Cab  </td><td> 1290</td></tr>\n",
       "\t<tr><td>Wagon       </td><td>  824</td></tr>\n",
       "\t<tr><td>Crewmax Cab </td><td>  548</td></tr>\n",
       "\t<tr><td>Access Cab  </td><td>  283</td></tr>\n",
       "\t<tr><td>Coupe       </td><td>  261</td></tr>\n",
       "\t<tr><td>Regular Cab </td><td>  162</td></tr>\n",
       "\t<tr><td>Convertible </td><td>  151</td></tr>\n",
       "\t<tr><td>            </td><td>   75</td></tr>\n",
       "\t<tr><td>Extended Cab</td><td>   43</td></tr>\n",
       "\t<tr><td>Xtracab     </td><td>   42</td></tr>\n",
       "</tbody>\n",
       "</table>\n"
      ],
      "text/latex": [
       "A data.frame: 14 × 2\n",
       "\\begin{tabular}{ll}\n",
       " body & n\\\\\n",
       " <chr> & <int>\\\\\n",
       "\\hline\n",
       "\t Sedan        & 21503\\\\\n",
       "\t Suv          &  7783\\\\\n",
       "\t Hatchback    &  2764\\\\\n",
       "\t Minivan      &  2716\\\\\n",
       "\t Double Cab   &  1290\\\\\n",
       "\t Wagon        &   824\\\\\n",
       "\t Crewmax Cab  &   548\\\\\n",
       "\t Access Cab   &   283\\\\\n",
       "\t Coupe        &   261\\\\\n",
       "\t Regular Cab  &   162\\\\\n",
       "\t Convertible  &   151\\\\\n",
       "\t              &    75\\\\\n",
       "\t Extended Cab &    43\\\\\n",
       "\t Xtracab      &    42\\\\\n",
       "\\end{tabular}\n"
      ],
      "text/markdown": [
       "\n",
       "A data.frame: 14 × 2\n",
       "\n",
       "| body &lt;chr&gt; | n &lt;int&gt; |\n",
       "|---|---|\n",
       "| Sedan        | 21503 |\n",
       "| Suv          |  7783 |\n",
       "| Hatchback    |  2764 |\n",
       "| Minivan      |  2716 |\n",
       "| Double Cab   |  1290 |\n",
       "| Wagon        |   824 |\n",
       "| Crewmax Cab  |   548 |\n",
       "| Access Cab   |   283 |\n",
       "| Coupe        |   261 |\n",
       "| Regular Cab  |   162 |\n",
       "| Convertible  |   151 |\n",
       "| <!----> |    75 |\n",
       "| Extended Cab |    43 |\n",
       "| Xtracab      |    42 |\n",
       "\n"
      ],
      "text/plain": [
       "   body         n    \n",
       "1  Sedan        21503\n",
       "2  Suv           7783\n",
       "3  Hatchback     2764\n",
       "4  Minivan       2716\n",
       "5  Double Cab    1290\n",
       "6  Wagon          824\n",
       "7  Crewmax Cab    548\n",
       "8  Access Cab     283\n",
       "9  Coupe          261\n",
       "10 Regular Cab    162\n",
       "11 Convertible    151\n",
       "12                 75\n",
       "13 Extended Cab    43\n",
       "14 Xtracab         42"
      ]
     },
     "metadata": {},
     "output_type": "display_data"
    }
   ],
   "source": [
    "# Count by body type; verify skews\n",
    "toyota_data %>% count(body) %>% arrange(desc(n))"
   ]
  },
  {
   "cell_type": "code",
   "execution_count": 27,
   "id": "3ddfe582-0886-4972-8bf8-696a0aa82556",
   "metadata": {},
   "outputs": [],
   "source": [
    "# Get counts\n",
    "toyota_bodytype_counts <- toyota_data %>%\n",
    "  count(body, sort = TRUE)"
   ]
  },
  {
   "cell_type": "code",
   "execution_count": 28,
   "id": "7cefed07-c5a5-436e-948a-1237fe74c83d",
   "metadata": {},
   "outputs": [
    {
     "data": {
      "image/png": "[encoded data removed]",
      "text/plain": [
       "plot without title"
      ]
     },
     "metadata": {
      "image/png": {
       "height": 420,
       "width": 420
      }
     },
     "output_type": "display_data"
    }
   ],
   "source": [
    "# Plot\n",
    "ggplot(toyota_bodytype_counts, aes(x = reorder(body, n), y = n)) +\n",
    "  geom_col(fill = \"purple\") +\n",
    "  coord_flip() +\n",
    "  labs(title = \"Toyota Listings by Body Type\",\n",
    "       x = \"Body Type\",\n",
    "       y = \"Number of Listings\") +\n",
    "  theme_minimal()"
   ]
  },
  {
   "cell_type": "markdown",
   "id": "6072eb58-f350-4518-b3cd-7713db3d385a",
   "metadata": {},
   "source": [
    "### Visualization 4: Selling Price VS Odometer"
   ]
  },
  {
   "cell_type": "code",
   "execution_count": 29,
   "id": "48a9d3fb-eb85-426b-ac65-a96b2986c138",
   "metadata": {},
   "outputs": [
    {
     "data": {
      "text/html": [
       "<table class=\"dataframe\">\n",
       "<caption>A data.frame: 20 × 3</caption>\n",
       "<thead>\n",
       "\t<tr><th></th><th scope=col>model</th><th scope=col>odometer</th><th scope=col>sellingprice</th></tr>\n",
       "\t<tr><th></th><th scope=col>&lt;chr&gt;</th><th scope=col>&lt;int&gt;</th><th scope=col>&lt;int&gt;</th></tr>\n",
       "</thead>\n",
       "<tbody>\n",
       "\t<tr><th scope=row>1</th><td>Camry       </td><td>999999</td><td>3300</td></tr>\n",
       "\t<tr><th scope=row>2</th><td>Corolla     </td><td>959276</td><td> 500</td></tr>\n",
       "\t<tr><th scope=row>3</th><td>Highlander  </td><td>621388</td><td>3100</td></tr>\n",
       "\t<tr><th scope=row>4</th><td>Prius       </td><td>537334</td><td>1700</td></tr>\n",
       "\t<tr><th scope=row>5</th><td>Sienna      </td><td>443236</td><td>4800</td></tr>\n",
       "\t<tr><th scope=row>6</th><td>Corolla     </td><td>380842</td><td>6000</td></tr>\n",
       "\t<tr><th scope=row>7</th><td>Pickup      </td><td>379307</td><td> 900</td></tr>\n",
       "\t<tr><th scope=row>8</th><td>Pickup      </td><td>379069</td><td> 800</td></tr>\n",
       "\t<tr><th scope=row>9</th><td>Tundra      </td><td>376426</td><td>1600</td></tr>\n",
       "\t<tr><th scope=row>10</th><td>Prius V     </td><td>369530</td><td>9000</td></tr>\n",
       "\t<tr><th scope=row>11</th><td>4runner     </td><td>367750</td><td> 700</td></tr>\n",
       "\t<tr><th scope=row>12</th><td>Highlander  </td><td>366234</td><td>3400</td></tr>\n",
       "\t<tr><th scope=row>13</th><td>Camry       </td><td>365286</td><td>2100</td></tr>\n",
       "\t<tr><th scope=row>14</th><td>Camry       </td><td>360680</td><td> 800</td></tr>\n",
       "\t<tr><th scope=row>15</th><td>Avalon      </td><td>357751</td><td>1100</td></tr>\n",
       "\t<tr><th scope=row>16</th><td>4runner     </td><td>354003</td><td>3700</td></tr>\n",
       "\t<tr><th scope=row>17</th><td>Camry       </td><td>351919</td><td>1200</td></tr>\n",
       "\t<tr><th scope=row>18</th><td>Camry       </td><td>351917</td><td> 900</td></tr>\n",
       "\t<tr><th scope=row>19</th><td>Camry       </td><td>348816</td><td>3100</td></tr>\n",
       "\t<tr><th scope=row>20</th><td>Camry Solara</td><td>347824</td><td> 700</td></tr>\n",
       "</tbody>\n",
       "</table>\n"
      ],
      "text/latex": [
       "A data.frame: 20 × 3\n",
       "\\begin{tabular}{r|lll}\n",
       "  & model & odometer & sellingprice\\\\\n",
       "  & <chr> & <int> & <int>\\\\\n",
       "\\hline\n",
       "\t1 & Camry        & 999999 & 3300\\\\\n",
       "\t2 & Corolla      & 959276 &  500\\\\\n",
       "\t3 & Highlander   & 621388 & 3100\\\\\n",
       "\t4 & Prius        & 537334 & 1700\\\\\n",
       "\t5 & Sienna       & 443236 & 4800\\\\\n",
       "\t6 & Corolla      & 380842 & 6000\\\\\n",
       "\t7 & Pickup       & 379307 &  900\\\\\n",
       "\t8 & Pickup       & 379069 &  800\\\\\n",
       "\t9 & Tundra       & 376426 & 1600\\\\\n",
       "\t10 & Prius V      & 369530 & 9000\\\\\n",
       "\t11 & 4runner      & 367750 &  700\\\\\n",
       "\t12 & Highlander   & 366234 & 3400\\\\\n",
       "\t13 & Camry        & 365286 & 2100\\\\\n",
       "\t14 & Camry        & 360680 &  800\\\\\n",
       "\t15 & Avalon       & 357751 & 1100\\\\\n",
       "\t16 & 4runner      & 354003 & 3700\\\\\n",
       "\t17 & Camry        & 351919 & 1200\\\\\n",
       "\t18 & Camry        & 351917 &  900\\\\\n",
       "\t19 & Camry        & 348816 & 3100\\\\\n",
       "\t20 & Camry Solara & 347824 &  700\\\\\n",
       "\\end{tabular}\n"
      ],
      "text/markdown": [
       "\n",
       "A data.frame: 20 × 3\n",
       "\n",
       "| <!--/--> | model &lt;chr&gt; | odometer &lt;int&gt; | sellingprice &lt;int&gt; |\n",
       "|---|---|---|---|\n",
       "| 1 | Camry        | 999999 | 3300 |\n",
       "| 2 | Corolla      | 959276 |  500 |\n",
       "| 3 | Highlander   | 621388 | 3100 |\n",
       "| 4 | Prius        | 537334 | 1700 |\n",
       "| 5 | Sienna       | 443236 | 4800 |\n",
       "| 6 | Corolla      | 380842 | 6000 |\n",
       "| 7 | Pickup       | 379307 |  900 |\n",
       "| 8 | Pickup       | 379069 |  800 |\n",
       "| 9 | Tundra       | 376426 | 1600 |\n",
       "| 10 | Prius V      | 369530 | 9000 |\n",
       "| 11 | 4runner      | 367750 |  700 |\n",
       "| 12 | Highlander   | 366234 | 3400 |\n",
       "| 13 | Camry        | 365286 | 2100 |\n",
       "| 14 | Camry        | 360680 |  800 |\n",
       "| 15 | Avalon       | 357751 | 1100 |\n",
       "| 16 | 4runner      | 354003 | 3700 |\n",
       "| 17 | Camry        | 351919 | 1200 |\n",
       "| 18 | Camry        | 351917 |  900 |\n",
       "| 19 | Camry        | 348816 | 3100 |\n",
       "| 20 | Camry Solara | 347824 |  700 |\n",
       "\n"
      ],
      "text/plain": [
       "   model        odometer sellingprice\n",
       "1  Camry        999999   3300        \n",
       "2  Corolla      959276    500        \n",
       "3  Highlander   621388   3100        \n",
       "4  Prius        537334   1700        \n",
       "5  Sienna       443236   4800        \n",
       "6  Corolla      380842   6000        \n",
       "7  Pickup       379307    900        \n",
       "8  Pickup       379069    800        \n",
       "9  Tundra       376426   1600        \n",
       "10 Prius V      369530   9000        \n",
       "11 4runner      367750    700        \n",
       "12 Highlander   366234   3400        \n",
       "13 Camry        365286   2100        \n",
       "14 Camry        360680    800        \n",
       "15 Avalon       357751   1100        \n",
       "16 4runner      354003   3700        \n",
       "17 Camry        351919   1200        \n",
       "18 Camry        351917    900        \n",
       "19 Camry        348816   3100        \n",
       "20 Camry Solara 347824    700        "
      ]
     },
     "metadata": {},
     "output_type": "display_data"
    }
   ],
   "source": [
    "# Preview extreme odometer values\n",
    "toyota_data %>%\n",
    "  arrange(desc(odometer)) %>%\n",
    "  select(model, odometer, sellingprice) %>%\n",
    "  head(20)"
   ]
  },
  {
   "cell_type": "code",
   "execution_count": 30,
   "id": "901e5e03-baae-4d3d-9bd1-d1207386e22d",
   "metadata": {},
   "outputs": [
    {
     "data": {
      "text/plain": [
       "   Min. 1st Qu.  Median    Mean 3rd Qu.    Max. \n",
       "      1   30571   53656   73103  104396  999999 "
      ]
     },
     "metadata": {},
     "output_type": "display_data"
    }
   ],
   "source": [
    "# Summary stats to assess reasonable cutoff\n",
    "summary(toyota_data$odometer)"
   ]
  },
  {
   "cell_type": "code",
   "execution_count": 31,
   "id": "4f689911-6a2f-404d-8ceb-0f2b8afd8614",
   "metadata": {},
   "outputs": [],
   "source": [
    "# Filter for vehicles with ≤ 300,000 miles (removes extreme outliers)\n",
    "# this is still being generous, 3x over the 75th percentile\n",
    "filtered_price_mileage <- toyota_data %>%\n",
    "  filter(odometer <= 300000)"
   ]
  },
  {
   "cell_type": "code",
   "execution_count": 32,
   "id": "2e4e1ce4-f399-41b4-9ba5-31cc0402cea8",
   "metadata": {},
   "outputs": [
    {
     "name": "stderr",
     "output_type": "stream",
     "text": [
      "\u001b[1m\u001b[22m`geom_smooth()` using formula = 'y ~ x'\n"
     ]
    },
    {
     "data": {
      "image/png": "[encoded data removed]",
      "text/plain": [
       "plot without title"
      ]
     },
     "metadata": {
      "image/png": {
       "height": 420,
       "width": 420
      }
     },
     "output_type": "display_data"
    }
   ],
   "source": [
    "# Scatter plot with linear trend line\n",
    "ggplot(filtered_price_mileage, aes(x = odometer, y = sellingprice)) +\n",
    "  geom_point(alpha = 0.3) +\n",
    "  geom_smooth(method = \"lm\", se = FALSE) +\n",
    "  labs(title = \"Selling Price vs. Odometer (Toyota, ≤ 300,000 miles)\",\n",
    "       x = \"Odometer (miles)\",\n",
    "       y = \"Selling Price ($)\") +\n",
    "  theme_minimal()"
   ]
  },
  {
   "cell_type": "markdown",
   "id": "9e9023a9-f8c8-4ae8-b19e-5d026b712909",
   "metadata": {},
   "source": [
    "### Visualization 5: Selling Price Over Time"
   ]
  },
  {
   "cell_type": "code",
   "execution_count": 33,
   "id": "0f310b72-d9de-4b42-9158-6fc3efaa28e0",
   "metadata": {},
   "outputs": [],
   "source": [
    "# Examine how many listings per month\n",
    "month_skew <- toyota_data %>%\n",
    "  mutate(month = floor_date(saledate, \"month\")) %>%\n",
    "  count(month) %>%\n",
    "  arrange(n)"
   ]
  },
  {
   "cell_type": "code",
   "execution_count": 34,
   "id": "a03b0ea4-1574-4225-b115-d0e4a202b9de",
   "metadata": {},
   "outputs": [],
   "source": [
    "# month_skew # See which months have small samples\n",
    "# Extreme drops from low samples make wild swings in data\n",
    "# You can check by replacing reliable_months with toyota_data\n",
    "\n",
    "# Filter to keep months with 500+ listings to avoid noise\n",
    "reliable_months <- toyota_data %>%\n",
    "  mutate(month = as.Date(floor_date(saledate, \"month\"))) %>%\n",
    "  group_by(month) %>%\n",
    "  filter(n() >= 500) %>%\n",
    "  summarise(avg_price = mean(sellingprice, na.rm = TRUE))"
   ]
  },
  {
   "cell_type": "code",
   "execution_count": 35,
   "id": "1c45c01e-2bed-4a0a-856d-3c2437896cad",
   "metadata": {},
   "outputs": [
    {
     "data": {
      "image/png": "[encoded data removed]",
      "text/plain": [
       "plot without title"
      ]
     },
     "metadata": {
      "image/png": {
       "height": 420,
       "width": 420
      }
     },
     "output_type": "display_data"
    }
   ],
   "source": [
    "# Plot trend of average price over time\n",
    "ggplot(reliable_months, aes(x = month, y = avg_price)) +\n",
    "  geom_line(linewidth = 1) +\n",
    "  scale_x_date(date_labels = \"%b %Y\", date_breaks = \"1 month\") +\n",
    "  labs(title = \"Avg Toyota Selling Price Over Time (500+ Listings)\",\n",
    "       x = \"Month\",\n",
    "       y = \"Average Selling Price ($)\") +\n",
    "  theme_minimal() +\n",
    "  theme(axis.text.x = element_text(angle = 45, hjust = 1))"
   ]
  },
  {
   "cell_type": "markdown",
   "id": "6478624f-3bff-4537-accc-a5d1a06333d4",
   "metadata": {},
   "source": [
    "### Visualization 6: Distribution of Vehicle Conditions"
   ]
  },
  {
   "cell_type": "code",
   "execution_count": 36,
   "id": "023e6cad-829d-4d25-bd0f-97f2fd48334e",
   "metadata": {},
   "outputs": [
    {
     "data": {
      "image/png": "[encoded data removed]",
      "text/plain": [
       "plot without title"
      ]
     },
     "metadata": {
      "image/png": {
       "height": 420,
       "width": 420
      }
     },
     "output_type": "display_data"
    }
   ],
   "source": [
    "# Condition Distribution\n",
    "ggplot(toyota_data, aes(x = condition)) +\n",
    "  geom_bar() +\n",
    "  labs(title = \"Distribution of Vehicle Conditions\",\n",
    "       x = \"Condition\",\n",
    "       y = \"Count\") +\n",
    "  theme_minimal()"
   ]
  },
  {
   "cell_type": "markdown",
   "id": "e3b22bec-e556-44c4-8548-e4d47aa4a7b0",
   "metadata": {},
   "source": [
    "### Visualization 7: Price Distribution by Body Type"
   ]
  },
  {
   "cell_type": "code",
   "execution_count": 37,
   "id": "5207cb41-228f-4bc8-8c7f-47a309132bd9",
   "metadata": {},
   "outputs": [
    {
     "data": {
      "image/png": "[encoded data removed]",
      "text/plain": [
       "plot without title"
      ]
     },
     "metadata": {
      "image/png": {
       "height": 420,
       "width": 420
      }
     },
     "output_type": "display_data"
    }
   ],
   "source": [
    "# Price Distribution by Body Type\n",
    "ggplot(toyota_data, aes(x = body, y = sellingprice)) +\n",
    "  geom_boxplot() +\n",
    "  coord_flip() +\n",
    "  labs(title = \"Price Distribution by Body Type\",\n",
    "       x = \"Body Type\",\n",
    "       y = \"Selling Price ($)\") +\n",
    "  theme_minimal()"
   ]
  },
  {
   "cell_type": "markdown",
   "id": "a324fbe4-1d10-4f2d-95c0-ed21b9f12211",
   "metadata": {},
   "source": [
    "## GDP Merge & Regression Modeling"
   ]
  },
  {
   "cell_type": "markdown",
   "id": "6ef38d99-d9ce-4c50-b484-59373a89bbda",
   "metadata": {},
   "source": [
    "### Load and Verify GDP Dataset"
   ]
  },
  {
   "cell_type": "code",
   "execution_count": 38,
   "id": "2da0ea0f-1c54-4a41-a0be-7d23739b4677",
   "metadata": {},
   "outputs": [],
   "source": [
    "state_gdp <- read.csv(\"C:\\\\Users\\\\hunte\\\\Freelance Data Work\\\\OneDrive\\\\MBA\\\\Spring Term 2\\\\Business Analytics for Decisions\\\\Team Project\\\\GDP summary state annual 2014 -2015 rev1.csv\")"
   ]
  },
  {
   "cell_type": "code",
   "execution_count": 39,
   "id": "c02f9fbb-bee8-48bf-bbf0-8db4f4bbaffd",
   "metadata": {},
   "outputs": [
    {
     "name": "stdout",
     "output_type": "stream",
     "text": [
      "'data.frame':\t765 obs. of  6 variables:\n",
      " $ state      : chr  \"al\" \"al\" \"al\" \"al\" ...\n",
      " $ Region     : int  5 5 5 5 5 5 5 5 5 5 ...\n",
      " $ description: chr  \" Real GDP (millions of chained 2017 dollars) 1/\" \" Real personal income (millions of constant (2017) dollars) 2/\" \" Real PCE (millions of constant (2017) dollars) 3/\" \" Gross domestic product (GDP) \" ...\n",
      " $ unit       : chr  \"Millions of chained 2017 dollars\" \"Millions of constant 2017 dollars\" \"Millions of constant 2017 dollars\" \"Millions of current dollars\" ...\n",
      " $ X2014      : num  206070 205292 169502 197064 179487 ...\n",
      " $ X2015      : num  208950 215148 175051 203113 187475 ...\n"
     ]
    }
   ],
   "source": [
    "str(state_gdp)"
   ]
  },
  {
   "cell_type": "code",
   "execution_count": 40,
   "id": "1102a54f-7d98-47dd-9bbb-02c9199bbe5c",
   "metadata": {},
   "outputs": [
    {
     "data": {
      "text/html": [
       "<table class=\"dataframe\">\n",
       "<caption>A data.frame: 6 × 6</caption>\n",
       "<thead>\n",
       "\t<tr><th></th><th scope=col>state</th><th scope=col>Region</th><th scope=col>description</th><th scope=col>unit</th><th scope=col>X2014</th><th scope=col>X2015</th></tr>\n",
       "\t<tr><th></th><th scope=col>&lt;chr&gt;</th><th scope=col>&lt;int&gt;</th><th scope=col>&lt;chr&gt;</th><th scope=col>&lt;chr&gt;</th><th scope=col>&lt;dbl&gt;</th><th scope=col>&lt;dbl&gt;</th></tr>\n",
       "</thead>\n",
       "<tbody>\n",
       "\t<tr><th scope=row>1</th><td>al</td><td>5</td><td> Real GDP (millions of chained 2017 dollars) 1/               </td><td>Millions of chained 2017 dollars </td><td>206070.0</td><td>208950.3</td></tr>\n",
       "\t<tr><th scope=row>2</th><td>al</td><td>5</td><td> Real personal income (millions of constant (2017) dollars) 2/</td><td>Millions of constant 2017 dollars</td><td>205291.8</td><td>215147.9</td></tr>\n",
       "\t<tr><th scope=row>3</th><td>al</td><td>5</td><td> Real PCE (millions of constant (2017) dollars) 3/            </td><td>Millions of constant 2017 dollars</td><td>169501.8</td><td>175050.6</td></tr>\n",
       "\t<tr><th scope=row>4</th><td>al</td><td>5</td><td> Gross domestic product (GDP)                                 </td><td>Millions of current dollars      </td><td>197064.4</td><td>203113.3</td></tr>\n",
       "\t<tr><th scope=row>5</th><td>al</td><td>5</td><td> Personal income                                              </td><td>Millions of current dollars      </td><td>179487.1</td><td>187474.7</td></tr>\n",
       "\t<tr><th scope=row>6</th><td>al</td><td>5</td><td> Disposable personal income                                   </td><td>Millions of current dollars      </td><td>162978.1</td><td>169520.5</td></tr>\n",
       "</tbody>\n",
       "</table>\n"
      ],
      "text/latex": [
       "A data.frame: 6 × 6\n",
       "\\begin{tabular}{r|llllll}\n",
       "  & state & Region & description & unit & X2014 & X2015\\\\\n",
       "  & <chr> & <int> & <chr> & <chr> & <dbl> & <dbl>\\\\\n",
       "\\hline\n",
       "\t1 & al & 5 &  Real GDP (millions of chained 2017 dollars) 1/                & Millions of chained 2017 dollars  & 206070.0 & 208950.3\\\\\n",
       "\t2 & al & 5 &  Real personal income (millions of constant (2017) dollars) 2/ & Millions of constant 2017 dollars & 205291.8 & 215147.9\\\\\n",
       "\t3 & al & 5 &  Real PCE (millions of constant (2017) dollars) 3/             & Millions of constant 2017 dollars & 169501.8 & 175050.6\\\\\n",
       "\t4 & al & 5 &  Gross domestic product (GDP)                                  & Millions of current dollars       & 197064.4 & 203113.3\\\\\n",
       "\t5 & al & 5 &  Personal income                                               & Millions of current dollars       & 179487.1 & 187474.7\\\\\n",
       "\t6 & al & 5 &  Disposable personal income                                    & Millions of current dollars       & 162978.1 & 169520.5\\\\\n",
       "\\end{tabular}\n"
      ],
      "text/markdown": [
       "\n",
       "A data.frame: 6 × 6\n",
       "\n",
       "| <!--/--> | state &lt;chr&gt; | Region &lt;int&gt; | description &lt;chr&gt; | unit &lt;chr&gt; | X2014 &lt;dbl&gt; | X2015 &lt;dbl&gt; |\n",
       "|---|---|---|---|---|---|---|\n",
       "| 1 | al | 5 |  Real GDP (millions of chained 2017 dollars) 1/                | Millions of chained 2017 dollars  | 206070.0 | 208950.3 |\n",
       "| 2 | al | 5 |  Real personal income (millions of constant (2017) dollars) 2/ | Millions of constant 2017 dollars | 205291.8 | 215147.9 |\n",
       "| 3 | al | 5 |  Real PCE (millions of constant (2017) dollars) 3/             | Millions of constant 2017 dollars | 169501.8 | 175050.6 |\n",
       "| 4 | al | 5 |  Gross domestic product (GDP)                                  | Millions of current dollars       | 197064.4 | 203113.3 |\n",
       "| 5 | al | 5 |  Personal income                                               | Millions of current dollars       | 179487.1 | 187474.7 |\n",
       "| 6 | al | 5 |  Disposable personal income                                    | Millions of current dollars       | 162978.1 | 169520.5 |\n",
       "\n"
      ],
      "text/plain": [
       "  state Region description                                                   \n",
       "1 al    5       Real GDP (millions of chained 2017 dollars) 1/               \n",
       "2 al    5       Real personal income (millions of constant (2017) dollars) 2/\n",
       "3 al    5       Real PCE (millions of constant (2017) dollars) 3/            \n",
       "4 al    5       Gross domestic product (GDP)                                 \n",
       "5 al    5       Personal income                                              \n",
       "6 al    5       Disposable personal income                                   \n",
       "  unit                              X2014    X2015   \n",
       "1 Millions of chained 2017 dollars  206070.0 208950.3\n",
       "2 Millions of constant 2017 dollars 205291.8 215147.9\n",
       "3 Millions of constant 2017 dollars 169501.8 175050.6\n",
       "4 Millions of current dollars       197064.4 203113.3\n",
       "5 Millions of current dollars       179487.1 187474.7\n",
       "6 Millions of current dollars       162978.1 169520.5"
      ]
     },
     "metadata": {},
     "output_type": "display_data"
    }
   ],
   "source": [
    "head(state_gdp)"
   ]
  },
  {
   "cell_type": "markdown",
   "id": "bd807e5d-94a6-45f0-b29c-dc8d279609a9",
   "metadata": {},
   "source": [
    "### Preview economic variables available"
   ]
  },
  {
   "cell_type": "code",
   "execution_count": 41,
   "id": "bcf5d888-1b0a-49c8-a7cb-e51f752b31bc",
   "metadata": {},
   "outputs": [
    {
     "data": {
      "text/html": [
       "<style>\n",
       ".list-inline {list-style: none; margin:0; padding: 0}\n",
       ".list-inline>li {display: inline-block}\n",
       ".list-inline>li:not(:last-child)::after {content: \"\\00b7\"; padding: 0 .5ex}\n",
       "</style>\n",
       "<ol class=list-inline><li>' Real GDP (millions of chained 2017 dollars) 1/'</li><li>' Real personal income (millions of constant (2017) dollars) 2/'</li><li>' Real PCE (millions of constant (2017) dollars) 3/'</li><li>' Gross domestic product (GDP) '</li><li>' Personal income '</li><li>' Disposable personal income '</li><li>' Personal consumption expenditures '</li><li>' Real per capita personal income 4/'</li><li>' Real per capita PCE 5/'</li><li>' Per capita personal income 6/'</li><li>' Per capita disposable personal income 7/'</li><li>' Per capita personal consumption expenditures (PCE) 8/'</li><li>' Regional price parities (RPPs) 9/'</li><li>' Implicit regional price deflator 10/'</li><li>' Total employment (number of jobs) '</li></ol>\n"
      ],
      "text/latex": [
       "\\begin{enumerate*}\n",
       "\\item ' Real GDP (millions of chained 2017 dollars) 1/'\n",
       "\\item ' Real personal income (millions of constant (2017) dollars) 2/'\n",
       "\\item ' Real PCE (millions of constant (2017) dollars) 3/'\n",
       "\\item ' Gross domestic product (GDP) '\n",
       "\\item ' Personal income '\n",
       "\\item ' Disposable personal income '\n",
       "\\item ' Personal consumption expenditures '\n",
       "\\item ' Real per capita personal income 4/'\n",
       "\\item ' Real per capita PCE 5/'\n",
       "\\item ' Per capita personal income 6/'\n",
       "\\item ' Per capita disposable personal income 7/'\n",
       "\\item ' Per capita personal consumption expenditures (PCE) 8/'\n",
       "\\item ' Regional price parities (RPPs) 9/'\n",
       "\\item ' Implicit regional price deflator 10/'\n",
       "\\item ' Total employment (number of jobs) '\n",
       "\\end{enumerate*}\n"
      ],
      "text/markdown": [
       "1. ' Real GDP (millions of chained 2017 dollars) 1/'\n",
       "2. ' Real personal income (millions of constant (2017) dollars) 2/'\n",
       "3. ' Real PCE (millions of constant (2017) dollars) 3/'\n",
       "4. ' Gross domestic product (GDP) '\n",
       "5. ' Personal income '\n",
       "6. ' Disposable personal income '\n",
       "7. ' Personal consumption expenditures '\n",
       "8. ' Real per capita personal income 4/'\n",
       "9. ' Real per capita PCE 5/'\n",
       "10. ' Per capita personal income 6/'\n",
       "11. ' Per capita disposable personal income 7/'\n",
       "12. ' Per capita personal consumption expenditures (PCE) 8/'\n",
       "13. ' Regional price parities (RPPs) 9/'\n",
       "14. ' Implicit regional price deflator 10/'\n",
       "15. ' Total employment (number of jobs) '\n",
       "\n",
       "\n"
      ],
      "text/plain": [
       " [1] \" Real GDP (millions of chained 2017 dollars) 1/\"               \n",
       " [2] \" Real personal income (millions of constant (2017) dollars) 2/\"\n",
       " [3] \" Real PCE (millions of constant (2017) dollars) 3/\"            \n",
       " [4] \" Gross domestic product (GDP) \"                                \n",
       " [5] \" Personal income \"                                             \n",
       " [6] \" Disposable personal income \"                                  \n",
       " [7] \" Personal consumption expenditures \"                           \n",
       " [8] \" Real per capita personal income 4/\"                           \n",
       " [9] \" Real per capita PCE 5/\"                                       \n",
       "[10] \" Per capita personal income 6/\"                                \n",
       "[11] \" Per capita disposable personal income 7/\"                     \n",
       "[12] \" Per capita personal consumption expenditures (PCE) 8/\"        \n",
       "[13] \" Regional price parities (RPPs) 9/\"                            \n",
       "[14] \" Implicit regional price deflator 10/\"                         \n",
       "[15] \" Total employment (number of jobs) \"                           "
      ]
     },
     "metadata": {},
     "output_type": "display_data"
    }
   ],
   "source": [
    "unique(state_gdp$description)"
   ]
  },
  {
   "cell_type": "markdown",
   "id": "a131a1cf-6c35-4d06-a423-e0b680462798",
   "metadata": {},
   "source": [
    "### Use \"Real GDP (chained 2017 dollars)\" as the chosen economic indicator"
   ]
  },
  {
   "cell_type": "code",
   "execution_count": 42,
   "id": "02a3fa2e-d398-4a68-8bc5-d1d82b2cad94",
   "metadata": {},
   "outputs": [],
   "source": [
    "gdp_filtered <- state_gdp %>%\n",
    "  filter(description == \" Real GDP (millions of chained 2017 dollars) 1/\") %>%\n",
    "  select(state, gdp_2015 = X2015)"
   ]
  },
  {
   "cell_type": "markdown",
   "id": "824b91ec-158d-47ef-98e5-df552037e95f",
   "metadata": {},
   "source": [
    "### Merge with Toyota Data and Confirm Success"
   ]
  },
  {
   "cell_type": "code",
   "execution_count": 43,
   "id": "e297a677-031d-4ae4-a1df-f4551905609b",
   "metadata": {},
   "outputs": [],
   "source": [
    "# Merge GDP values into the main Toyota data\n",
    "toyota_gdp_merge <- toyota_data %>%\n",
    "  left_join(gdp_filtered, by = \"state\")"
   ]
  },
  {
   "cell_type": "code",
   "execution_count": 44,
   "id": "60298a3e-38b1-4c1f-b955-8be1be56d5df",
   "metadata": {},
   "outputs": [
    {
     "data": {
      "text/plain": [
       "   Min. 1st Qu.  Median    Mean 3rd Qu.    Max. \n",
       "  83858  498944  633275  901379  945929 2545980 "
      ]
     },
     "metadata": {},
     "output_type": "display_data"
    }
   ],
   "source": [
    "# Confirm GDP merged successfully\n",
    "summary(toyota_gdp_merge$gdp_2015)"
   ]
  },
  {
   "cell_type": "code",
   "execution_count": 45,
   "id": "60656bf5-53ec-42a6-b9a3-7872c4b7bdf3",
   "metadata": {},
   "outputs": [
    {
     "name": "stdout",
     "output_type": "stream",
     "text": [
      "'data.frame':\t38445 obs. of  17 variables:\n",
      " $ year        : int  2013 2013 2013 2013 2013 2013 2013 2013 2013 2013 ...\n",
      " $ make        : chr  \"Toyota\" \"Toyota\" \"Toyota\" \"Toyota\" ...\n",
      " $ model       : chr  \"Corolla\" \"Sienna\" \"Yaris\" \"Corolla\" ...\n",
      " $ trim        : chr  \"LE\" \"LE 7-Passenger Mobility Auto Access\" \"L\" \"S\" ...\n",
      " $ body        : chr  \"Sedan\" \"Minivan\" \"Hatchback\" \"Sedan\" ...\n",
      " $ transmission: chr  \"automatic\" \"automatic\" \"automatic\" \"automatic\" ...\n",
      " $ vin         : chr  \"5yfbu4ee5dp216754\" \"5tdkk3dc4ds344460\" \"jtdktud33dd552876\" \"2t1bu4ee4dc089995\" ...\n",
      " $ state       : chr  \"ca\" \"ca\" \"ca\" \"ca\" ...\n",
      " $ condition   : int  1 35 2 47 38 5 28 37 1 33 ...\n",
      " $ odometer    : int  34915 49188 28412 19836 38882 2575 32198 36431 48744 36159 ...\n",
      " $ color       : chr  \"black\" \"gray\" \"white\" \"orange\" ...\n",
      " $ interior    : chr  \"gray\" \"tan\" \"gray\" \"black\" ...\n",
      " $ seller      : chr  \"enterprise vehicle exchange / tra / rental / tulsa\" \"the hertz corporation\" \"enterprise vehicle exchange / tra / rental / tulsa\" \"consolidated asset recovery systems  inc.\" ...\n",
      " $ mmr         : int  11400 17150 9775 13500 13200 21800 21200 25200 10600 18850 ...\n",
      " $ sellingprice: int  9200 18000 7800 14100 13500 22000 20500 24200 9500 19500 ...\n",
      " $ saledate    : POSIXct, format: \"2014-12-16 20:00:00\" \"2014-12-16 20:30:00\" ...\n",
      " $ gdp_2015    : num  2545980 2545980 2545980 2545980 2545980 ...\n"
     ]
    }
   ],
   "source": [
    "str(toyota_gdp_merge)"
   ]
  },
  {
   "cell_type": "code",
   "execution_count": 46,
   "id": "d518c166-20ff-479e-971f-6b4d90a40495",
   "metadata": {},
   "outputs": [
    {
     "data": {
      "text/html": [
       "<table class=\"dataframe\">\n",
       "<caption>A data.frame: 6 × 17</caption>\n",
       "<thead>\n",
       "\t<tr><th></th><th scope=col>year</th><th scope=col>make</th><th scope=col>model</th><th scope=col>trim</th><th scope=col>body</th><th scope=col>transmission</th><th scope=col>vin</th><th scope=col>state</th><th scope=col>condition</th><th scope=col>odometer</th><th scope=col>color</th><th scope=col>interior</th><th scope=col>seller</th><th scope=col>mmr</th><th scope=col>sellingprice</th><th scope=col>saledate</th><th scope=col>gdp_2015</th></tr>\n",
       "\t<tr><th></th><th scope=col>&lt;int&gt;</th><th scope=col>&lt;chr&gt;</th><th scope=col>&lt;chr&gt;</th><th scope=col>&lt;chr&gt;</th><th scope=col>&lt;chr&gt;</th><th scope=col>&lt;chr&gt;</th><th scope=col>&lt;chr&gt;</th><th scope=col>&lt;chr&gt;</th><th scope=col>&lt;int&gt;</th><th scope=col>&lt;int&gt;</th><th scope=col>&lt;chr&gt;</th><th scope=col>&lt;chr&gt;</th><th scope=col>&lt;chr&gt;</th><th scope=col>&lt;int&gt;</th><th scope=col>&lt;int&gt;</th><th scope=col>&lt;dttm&gt;</th><th scope=col>&lt;dbl&gt;</th></tr>\n",
       "</thead>\n",
       "<tbody>\n",
       "\t<tr><th scope=row>1</th><td>2013</td><td>Toyota</td><td>Corolla</td><td>LE                                 </td><td>Sedan    </td><td>automatic</td><td>5yfbu4ee5dp216754</td><td>ca</td><td> 1</td><td>34915</td><td>black </td><td>gray </td><td>enterprise vehicle exchange / tra / rental / tulsa</td><td>11400</td><td> 9200</td><td>2014-12-16 20:00:00</td><td>2545980</td></tr>\n",
       "\t<tr><th scope=row>2</th><td>2013</td><td>Toyota</td><td>Sienna </td><td>LE 7-Passenger Mobility Auto Access</td><td>Minivan  </td><td>automatic</td><td>5tdkk3dc4ds344460</td><td>ca</td><td>35</td><td>49188</td><td>gray  </td><td>tan  </td><td>the hertz corporation                             </td><td>17150</td><td>18000</td><td>2014-12-16 20:30:00</td><td>2545980</td></tr>\n",
       "\t<tr><th scope=row>3</th><td>2013</td><td>Toyota</td><td>Yaris  </td><td>L                                  </td><td>Hatchback</td><td>automatic</td><td>jtdktud33dd552876</td><td>ca</td><td> 2</td><td>28412</td><td>white </td><td>gray </td><td>enterprise vehicle exchange / tra / rental / tulsa</td><td> 9775</td><td> 7800</td><td>2014-12-30 21:00:00</td><td>2545980</td></tr>\n",
       "\t<tr><th scope=row>4</th><td>2013</td><td>Toyota</td><td>Corolla</td><td>S                                  </td><td>Sedan    </td><td>automatic</td><td>2t1bu4ee4dc089995</td><td>ca</td><td>47</td><td>19836</td><td>orange</td><td>black</td><td>consolidated asset recovery systems  inc.         </td><td>13500</td><td>14100</td><td>2014-12-17 20:30:00</td><td>2545980</td></tr>\n",
       "\t<tr><th scope=row>5</th><td>2013</td><td>Toyota</td><td>Camry  </td><td>LE                                 </td><td>Sedan    </td><td>automatic</td><td>4t4bf1fk5dr275482</td><td>ca</td><td>38</td><td>38882</td><td>red   </td><td>beige</td><td>avis corporation                                  </td><td>13200</td><td>13500</td><td>2014-12-18 19:30:00</td><td>2545980</td></tr>\n",
       "\t<tr><th scope=row>6</th><td>2013</td><td>Toyota</td><td>Camry  </td><td>XLE                                </td><td>Sedan    </td><td>automatic</td><td>4t1bk1fk0du529833</td><td>ca</td><td> 5</td><td> 2575</td><td>black </td><td>gray </td><td>the car exchange                                  </td><td>21800</td><td>22000</td><td>2014-12-17 20:30:00</td><td>2545980</td></tr>\n",
       "</tbody>\n",
       "</table>\n"
      ],
      "text/latex": [
       "A data.frame: 6 × 17\n",
       "\\begin{tabular}{r|lllllllllllllllll}\n",
       "  & year & make & model & trim & body & transmission & vin & state & condition & odometer & color & interior & seller & mmr & sellingprice & saledate & gdp\\_2015\\\\\n",
       "  & <int> & <chr> & <chr> & <chr> & <chr> & <chr> & <chr> & <chr> & <int> & <int> & <chr> & <chr> & <chr> & <int> & <int> & <dttm> & <dbl>\\\\\n",
       "\\hline\n",
       "\t1 & 2013 & Toyota & Corolla & LE                                  & Sedan     & automatic & 5yfbu4ee5dp216754 & ca &  1 & 34915 & black  & gray  & enterprise vehicle exchange / tra / rental / tulsa & 11400 &  9200 & 2014-12-16 20:00:00 & 2545980\\\\\n",
       "\t2 & 2013 & Toyota & Sienna  & LE 7-Passenger Mobility Auto Access & Minivan   & automatic & 5tdkk3dc4ds344460 & ca & 35 & 49188 & gray   & tan   & the hertz corporation                              & 17150 & 18000 & 2014-12-16 20:30:00 & 2545980\\\\\n",
       "\t3 & 2013 & Toyota & Yaris   & L                                   & Hatchback & automatic & jtdktud33dd552876 & ca &  2 & 28412 & white  & gray  & enterprise vehicle exchange / tra / rental / tulsa &  9775 &  7800 & 2014-12-30 21:00:00 & 2545980\\\\\n",
       "\t4 & 2013 & Toyota & Corolla & S                                   & Sedan     & automatic & 2t1bu4ee4dc089995 & ca & 47 & 19836 & orange & black & consolidated asset recovery systems  inc.          & 13500 & 14100 & 2014-12-17 20:30:00 & 2545980\\\\\n",
       "\t5 & 2013 & Toyota & Camry   & LE                                  & Sedan     & automatic & 4t4bf1fk5dr275482 & ca & 38 & 38882 & red    & beige & avis corporation                                   & 13200 & 13500 & 2014-12-18 19:30:00 & 2545980\\\\\n",
       "\t6 & 2013 & Toyota & Camry   & XLE                                 & Sedan     & automatic & 4t1bk1fk0du529833 & ca &  5 &  2575 & black  & gray  & the car exchange                                   & 21800 & 22000 & 2014-12-17 20:30:00 & 2545980\\\\\n",
       "\\end{tabular}\n"
      ],
      "text/markdown": [
       "\n",
       "A data.frame: 6 × 17\n",
       "\n",
       "| <!--/--> | year &lt;int&gt; | make &lt;chr&gt; | model &lt;chr&gt; | trim &lt;chr&gt; | body &lt;chr&gt; | transmission &lt;chr&gt; | vin &lt;chr&gt; | state &lt;chr&gt; | condition &lt;int&gt; | odometer &lt;int&gt; | color &lt;chr&gt; | interior &lt;chr&gt; | seller &lt;chr&gt; | mmr &lt;int&gt; | sellingprice &lt;int&gt; | saledate &lt;dttm&gt; | gdp_2015 &lt;dbl&gt; |\n",
       "|---|---|---|---|---|---|---|---|---|---|---|---|---|---|---|---|---|---|\n",
       "| 1 | 2013 | Toyota | Corolla | LE                                  | Sedan     | automatic | 5yfbu4ee5dp216754 | ca |  1 | 34915 | black  | gray  | enterprise vehicle exchange / tra / rental / tulsa | 11400 |  9200 | 2014-12-16 20:00:00 | 2545980 |\n",
       "| 2 | 2013 | Toyota | Sienna  | LE 7-Passenger Mobility Auto Access | Minivan   | automatic | 5tdkk3dc4ds344460 | ca | 35 | 49188 | gray   | tan   | the hertz corporation                              | 17150 | 18000 | 2014-12-16 20:30:00 | 2545980 |\n",
       "| 3 | 2013 | Toyota | Yaris   | L                                   | Hatchback | automatic | jtdktud33dd552876 | ca |  2 | 28412 | white  | gray  | enterprise vehicle exchange / tra / rental / tulsa |  9775 |  7800 | 2014-12-30 21:00:00 | 2545980 |\n",
       "| 4 | 2013 | Toyota | Corolla | S                                   | Sedan     | automatic | 2t1bu4ee4dc089995 | ca | 47 | 19836 | orange | black | consolidated asset recovery systems  inc.          | 13500 | 14100 | 2014-12-17 20:30:00 | 2545980 |\n",
       "| 5 | 2013 | Toyota | Camry   | LE                                  | Sedan     | automatic | 4t4bf1fk5dr275482 | ca | 38 | 38882 | red    | beige | avis corporation                                   | 13200 | 13500 | 2014-12-18 19:30:00 | 2545980 |\n",
       "| 6 | 2013 | Toyota | Camry   | XLE                                 | Sedan     | automatic | 4t1bk1fk0du529833 | ca |  5 |  2575 | black  | gray  | the car exchange                                   | 21800 | 22000 | 2014-12-17 20:30:00 | 2545980 |\n",
       "\n"
      ],
      "text/plain": [
       "  year make   model   trim                                body     \n",
       "1 2013 Toyota Corolla LE                                  Sedan    \n",
       "2 2013 Toyota Sienna  LE 7-Passenger Mobility Auto Access Minivan  \n",
       "3 2013 Toyota Yaris   L                                   Hatchback\n",
       "4 2013 Toyota Corolla S                                   Sedan    \n",
       "5 2013 Toyota Camry   LE                                  Sedan    \n",
       "6 2013 Toyota Camry   XLE                                 Sedan    \n",
       "  transmission vin               state condition odometer color  interior\n",
       "1 automatic    5yfbu4ee5dp216754 ca     1        34915    black  gray    \n",
       "2 automatic    5tdkk3dc4ds344460 ca    35        49188    gray   tan     \n",
       "3 automatic    jtdktud33dd552876 ca     2        28412    white  gray    \n",
       "4 automatic    2t1bu4ee4dc089995 ca    47        19836    orange black   \n",
       "5 automatic    4t4bf1fk5dr275482 ca    38        38882    red    beige   \n",
       "6 automatic    4t1bk1fk0du529833 ca     5         2575    black  gray    \n",
       "  seller                                             mmr   sellingprice\n",
       "1 enterprise vehicle exchange / tra / rental / tulsa 11400  9200       \n",
       "2 the hertz corporation                              17150 18000       \n",
       "3 enterprise vehicle exchange / tra / rental / tulsa  9775  7800       \n",
       "4 consolidated asset recovery systems  inc.          13500 14100       \n",
       "5 avis corporation                                   13200 13500       \n",
       "6 the car exchange                                   21800 22000       \n",
       "  saledate            gdp_2015\n",
       "1 2014-12-16 20:00:00 2545980 \n",
       "2 2014-12-16 20:30:00 2545980 \n",
       "3 2014-12-30 21:00:00 2545980 \n",
       "4 2014-12-17 20:30:00 2545980 \n",
       "5 2014-12-18 19:30:00 2545980 \n",
       "6 2014-12-17 20:30:00 2545980 "
      ]
     },
     "metadata": {},
     "output_type": "display_data"
    }
   ],
   "source": [
    "head(toyota_gdp_merge)"
   ]
  },
  {
   "cell_type": "code",
   "execution_count": 47,
   "id": "b9194de1-70c1-4b99-a145-71dad1a381dd",
   "metadata": {},
   "outputs": [
    {
     "data": {
      "text/html": [
       "0"
      ],
      "text/latex": [
       "0"
      ],
      "text/markdown": [
       "0"
      ],
      "text/plain": [
       "[1] 0"
      ]
     },
     "metadata": {},
     "output_type": "display_data"
    }
   ],
   "source": [
    "sum(is.na(toyota_gdp_merge$gdp_2015))"
   ]
  },
  {
   "cell_type": "markdown",
   "id": "f7809731-35e6-49df-83ec-e47916a08610",
   "metadata": {},
   "source": [
    "## Linear Regression Model"
   ]
  },
  {
   "cell_type": "code",
   "execution_count": 48,
   "id": "0da1d185-4584-4a79-8dd4-1c9d5f740bfe",
   "metadata": {},
   "outputs": [],
   "source": [
    "# Build linear regression model to understand price drivers\n",
    "model <- lm(sellingprice ~ year + odometer + condition + gdp_2015, data = toyota_gdp_merge)"
   ]
  },
  {
   "cell_type": "code",
   "execution_count": 49,
   "id": "eef0b9c8-057f-4b24-adff-0bea58d119f5",
   "metadata": {},
   "outputs": [
    {
     "data": {
      "text/plain": [
       "\n",
       "Call:\n",
       "lm(formula = sellingprice ~ year + odometer + condition + gdp_2015, \n",
       "    data = toyota_gdp_merge)\n",
       "\n",
       "Residuals:\n",
       "   Min     1Q Median     3Q    Max \n",
       "-14139  -3009  -1355   1560  51675 \n",
       "\n",
       "Coefficients:\n",
       "              Estimate Std. Error t value Pr(>|t|)    \n",
       "(Intercept) -1.241e+06  2.073e+04 -59.891  < 2e-16 ***\n",
       "year         6.236e+02  1.030e+01  60.555  < 2e-16 ***\n",
       "odometer    -3.474e-02  7.280e-04 -47.726  < 2e-16 ***\n",
       "condition    9.009e+01  2.211e+00  40.746  < 2e-16 ***\n",
       "gdp_2015     1.907e-04  3.701e-05   5.153 2.58e-07 ***\n",
       "---\n",
       "Signif. codes:  0 '***' 0.001 '**' 0.01 '*' 0.05 '.' 0.1 ' ' 1\n",
       "\n",
       "Residual standard error: 4933 on 38440 degrees of freedom\n",
       "Multiple R-squared:  0.5022,\tAdjusted R-squared:  0.5021 \n",
       "F-statistic:  9695 on 4 and 38440 DF,  p-value: < 2.2e-16\n"
      ]
     },
     "metadata": {},
     "output_type": "display_data"
    }
   ],
   "source": [
    "# View regression results\n",
    "summary(model)"
   ]
  },
  {
   "cell_type": "markdown",
   "id": "57c30843-820c-4b4c-8977-55c655c0836e",
   "metadata": {},
   "source": [
    "## Time Series Forecasting: 12-Month Outlook"
   ]
  },
  {
   "cell_type": "markdown",
   "id": "099753b1-1aa8-4aa9-8c9e-4650ed42acac",
   "metadata": {},
   "source": [
    "### Step 1: Prepare monthly average price data"
   ]
  },
  {
   "cell_type": "code",
   "execution_count": 50,
   "id": "38d33d51-6795-41a4-9232-d8828dffb237",
   "metadata": {},
   "outputs": [],
   "source": [
    "monthly_avg_price <- toyota_data %>%\n",
    "  mutate(month = floor_date(saledate, \"month\")) %>%\n",
    "  group_by(month) %>%\n",
    "  summarise(avg_price = mean(sellingprice, na.rm = TRUE)) %>%\n",
    "  arrange(month)"
   ]
  },
  {
   "cell_type": "markdown",
   "id": "f2fe050f-34b4-4a83-89d6-f84247f3f139",
   "metadata": {},
   "source": [
    "### Step 2: Convert to time series object"
   ]
  },
  {
   "cell_type": "code",
   "execution_count": 51,
   "id": "1ba37fca-9b74-45a2-a3ae-f88c737b0b94",
   "metadata": {},
   "outputs": [],
   "source": [
    "price_ts <- ts(\n",
    "  monthly_avg_price$avg_price,\n",
    "  start = c(year(min(monthly_avg_price$month)), month(min(monthly_avg_price$month))),\n",
    "  frequency = 12\n",
    ")"
   ]
  },
  {
   "cell_type": "markdown",
   "id": "b47429f1-40ac-4070-b83a-228335b7b0b1",
   "metadata": {},
   "source": [
    "### Step 3: Fit ARIMA model"
   ]
  },
  {
   "cell_type": "code",
   "execution_count": 52,
   "id": "0a0917d3-d20e-4225-9e7d-09b83300f50d",
   "metadata": {},
   "outputs": [],
   "source": [
    "fit_arima <- auto.arima(price_ts)"
   ]
  },
  {
   "cell_type": "markdown",
   "id": "b86544d2-cd66-43f9-b0b7-9fa3c273ea83",
   "metadata": {},
   "source": [
    "### Step 4: Forecast for the next 12 months"
   ]
  },
  {
   "cell_type": "code",
   "execution_count": 53,
   "id": "4048d521-95c4-4942-8b6a-6b24d885cc5f",
   "metadata": {},
   "outputs": [],
   "source": [
    "forecast_12mo <- forecast(fit_arima, h = 12)"
   ]
  },
  {
   "cell_type": "markdown",
   "id": "0acce0d3-6c55-43aa-9156-3a0752aadc6e",
   "metadata": {},
   "source": [
    "### Step 5: Plot the forecast"
   ]
  },
  {
   "cell_type": "code",
   "execution_count": 54,
   "id": "927cb5a0-68bd-4eb7-86d6-9c21793d311f",
   "metadata": {},
   "outputs": [
    {
     "data": {
      "text/plain": [
       "Series: price_ts \n",
       "ARIMA(0,0,0) with non-zero mean \n",
       "\n",
       "Coefficients:\n",
       "            mean\n",
       "      12570.1838\n",
       "s.e.    719.2972\n",
       "\n",
       "sigma^2 = 5238492:  log likelihood = -81.86\n",
       "AIC=167.72   AICc=169.72   BIC=168.12\n",
       "\n",
       "Training set error measures:\n",
       "                        ME     RMSE      MAE       MPE     MAPE MASE       ACF1\n",
       "Training set -2.021593e-13 2157.878 1408.678 -2.475043 10.68105  NaN 0.08875702"
      ]
     },
     "metadata": {},
     "output_type": "display_data"
    },
    {
     "data": {
      "image/png": "[encoded data removed]",
      "text/plain": [
       "plot without title"
      ]
     },
     "metadata": {
      "image/png": {
       "height": 420,
       "width": 420
      }
     },
     "output_type": "display_data"
    }
   ],
   "source": [
    "autoplot(forecast_12mo) +\n",
    "  labs(title = \"12-Month Forecast of Average Toyota Selling Prices\",\n",
    "       x = \"Year\",\n",
    "       y = \"Average Selling Price ($)\") +\n",
    "  theme_minimal()\n",
    "\n",
    "summary(fit_arima)"
   ]
  },
  {
   "cell_type": "markdown",
   "id": "51ce3b85-675f-4b40-a56e-bdccb21f5530",
   "metadata": {},
   "source": [
    "## Clustering Data"
   ]
  },
  {
   "cell_type": "code",
   "execution_count": 55,
   "id": "afcac542-8f6d-4d01-9032-e31b70c94579",
   "metadata": {},
   "outputs": [],
   "source": [
    "clustering_data <- toyota_data %>%\n",
    "  select(year, odometer, sellingprice) %>%\n",
    "  drop_na() %>%\n",
    "  scale()"
   ]
  },
  {
   "cell_type": "code",
   "execution_count": 56,
   "id": "5527cdc1-4a24-4970-97f6-d03e88800572",
   "metadata": {},
   "outputs": [],
   "source": [
    "set.seed(123)\n",
    "k_clusters <- kmeans(clustering_data, centers = 3, nstart = 25)"
   ]
  },
  {
   "cell_type": "code",
   "execution_count": 57,
   "id": "f30e218d-fb78-4cc6-86aa-69f7f8f37145",
   "metadata": {},
   "outputs": [],
   "source": [
    "toyota_data$cluster <- as.factor(k_clusters$cluster)"
   ]
  },
  {
   "cell_type": "code",
   "execution_count": 58,
   "id": "de9d95f9-667d-4823-8463-3a5b6588f613",
   "metadata": {},
   "outputs": [
    {
     "data": {
      "image/png": "[encoded data removed]",
      "text/plain": [
       "plot without title"
      ]
     },
     "metadata": {
      "image/png": {
       "height": 420,
       "width": 420
      }
     },
     "output_type": "display_data"
    }
   ],
   "source": [
    "# If 'factoextra' is installed, you can visualize clusters with fviz_cluster:\n",
    "fviz_cluster(k_clusters, data = clustering_data, geom = \"point\", ellipse.type = \"norm\", palette = \"jco\",\n",
    "             ggtheme = theme_minimal()) + labs(title = \"K-Means Clustering of Toyota Listings\")"
   ]
  },
  {
   "cell_type": "code",
   "execution_count": 59,
   "id": "3aaf08ca-3c0b-4dd8-b116-7e31f6dce08f",
   "metadata": {},
   "outputs": [
    {
     "data": {
      "image/png": "[encoded data removed]",
      "text/plain": [
       "plot without title"
      ]
     },
     "metadata": {
      "image/png": {
       "height": 420,
       "width": 420
      }
     },
     "output_type": "display_data"
    }
   ],
   "source": [
    "ggplot(toyota_data, aes(x = cluster, fill = body)) +\n",
    "  geom_bar(position = \"fill\") +\n",
    "  labs(title = \"Cluster Composition by Body Type\",\n",
    "       x = \"Cluster\",\n",
    "       y = \"Proportion\") +\n",
    "  theme_minimal()"
   ]
  },
  {
   "cell_type": "markdown",
   "id": "d34374e3-b644-4e8b-832d-3db07a2b577a",
   "metadata": {},
   "source": [
    "## Export CSVs For Tableau Dashboard"
   ]
  },
  {
   "cell_type": "code",
   "execution_count": 60,
   "id": "b107ff5a-6fb2-4841-9c2e-cef21bc446be",
   "metadata": {},
   "outputs": [],
   "source": [
    "# dir.create(\"exports\", showWarnings = FALSE)\n",
    "\n",
    "# # 1) Average price by state \n",
    "# write.csv(filtered_avg_price, \"exports/avg_price_by_state.csv\", row.names = FALSE)\n",
    "\n",
    "# # 2) Top 10 models\n",
    "# write.csv(top_models, \"exports/top_models.csv\", row.names = FALSE)\n",
    "\n",
    "# # 3) Body type counts\n",
    "# write.csv(toyota_bodytype_counts, \"exports/body_type_counts.csv\", row.names = FALSE)\n",
    "\n",
    "# # 4) Price vs Odometer \n",
    "# write.csv(filtered_price_mileage, \"exports/price_vs_odometer.csv\", row.names = FALSE)\n",
    "\n",
    "# # 5) Average price over time \n",
    "# write.csv(reliable_months, \"exports/avg_price_over_time.csv\", row.names = FALSE)\n",
    "\n",
    "# # 6) Condition distribution \n",
    "# write.csv(toyota_data[\"condition\"], \"exports/condition_raw.csv\", row.names = FALSE)\n",
    "\n",
    "# # 7) Price by body \n",
    "# write.csv(toyota_data[c(\"body\",\"sellingprice\")], \"exports/price_by_body_raw.csv\", row.names = FALSE)\n",
    "\n",
    "# # 8) Segmentation \n",
    "# write.csv(toyota_data[c(\"year\",\"odometer\",\"sellingprice\",\"condition\",\"body\",\"model\",\"state\",\"cluster\")],\n",
    "#           \"exports/clusters_rowlevel.csv\", row.names = FALSE)\n"
   ]
  }
 ],
 "metadata": {
  "kernelspec": {
   "display_name": "R",
   "language": "R",
   "name": "ir"
  },
  "language_info": {
   "codemirror_mode": "r",
   "file_extension": ".r",
   "mimetype": "text/x-r-source",
   "name": "R",
   "pygments_lexer": "r",
   "version": "4.4.2"
  }
 },
 "nbformat": 4,
 "nbformat_minor": 5
}
