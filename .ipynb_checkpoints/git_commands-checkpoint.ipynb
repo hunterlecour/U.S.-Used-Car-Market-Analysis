{
 "cells": [
  {
   "cell_type": "code",
   "execution_count": null,
   "id": "064494a3-f761-4ce9-a349-b06f704da370",
   "metadata": {},
   "outputs": [],
   "source": [
    "# # Step 1: Check if Git is installed\n",
    "# !git --version\n",
    "\n",
    "# # Step 2: Initialize a new Git repository\n",
    "# !git init\n",
    "\n",
    "# # Step 3: Add files to the repository\n",
    "# !git add .\n",
    "\n",
    "# # Add a Readme (if needed)\n",
    "# !git add README.md\n",
    "\n",
    "# # Step 4: Commit the changes\n",
    "# !git commit -m \"Initial commit\"\n",
    "\n",
    "# # Step 5: Check the current branch\n",
    "# !git branch \n",
    "\n",
    "# # Step 6: Create a new branch (if needed)\n",
    "# !git checkout -b main  # Replace with your branch name\n",
    "\n",
    "# # Step 7: Add the remote repository\n",
    "# !git remote add origin https://github.com/hunterlecour/U.S.-Used-Car-Market-Analysis.git\n",
    "\n",
    "# # Step 8: Push the changes to GitHub\n",
    "# !git push -u origin main # new-branch-name  # or main, if that’s your branch\n"
   ]
  },
  {
   "cell_type": "code",
   "execution_count": 32,
   "id": "673e32e0-3254-47a2-aea4-9bc145eeda0c",
   "metadata": {},
   "outputs": [],
   "source": [
    "# On going Maintenance \n",
    "\n",
    "# # Step 1: Check the status of your repository\n",
    "# !git status\n",
    "\n",
    "# # Step 2: Stage the updated notebook\n",
    "# !git add .  # or !git add my_notebook.ipynb\n",
    "\n",
    "# # Step 3: Commit the changes\n",
    "# !git commit -m \"Updated my_notebook with new analysis\"  # Customize the message\n",
    "\n",
    "# # Step 4: Push the changes to GitHub\n",
    "# !git push origin new-branch-name  # or !git push origin main\n"
   ]
  },
  {
   "cell_type": "code",
   "execution_count": 5,
   "id": "6e09b4f3-b2a6-43d7-84a6-3c439c82da09",
   "metadata": {},
   "outputs": [
    {
     "name": "stdout",
     "output_type": "stream",
     "text": [
      "origin\thttps://github.com/hunterlecour/U.S.-Used-Car-Market-Analysis.git (fetch)\n",
      "origin\thttps://github.com/hunterlecour/U.S.-Used-Car-Market-Analysis.git (push)\n"
     ]
    }
   ],
   "source": [
    "!git remote -v"
   ]
  },
  {
   "cell_type": "code",
   "execution_count": 6,
   "id": "0cbd3f65-393e-4cd8-a15c-da9364d6ed4e",
   "metadata": {},
   "outputs": [
    {
     "name": "stdout",
     "output_type": "stream",
     "text": [
      "On branch main\n",
      "Your branch is ahead of 'origin/main' by 1 commit.\n",
      "  (use \"git push\" to publish your local commits)\n",
      "\n",
      "nothing to commit, working tree clean\n"
     ]
    }
   ],
   "source": [
    "!git status"
   ]
  },
  {
   "cell_type": "code",
   "execution_count": 7,
   "id": "96ad5054-c699-49de-bc7e-888ec9365436",
   "metadata": {},
   "outputs": [],
   "source": [
    "!git add .  "
   ]
  },
  {
   "cell_type": "code",
   "execution_count": 8,
   "id": "00912cd9-d1cf-4ac7-bd85-1562aab5493a",
   "metadata": {},
   "outputs": [
    {
     "name": "stdout",
     "output_type": "stream",
     "text": [
      "On branch main\n",
      "Your branch is ahead of 'origin/main' by 1 commit.\n",
      "  (use \"git push\" to publish your local commits)\n",
      "\n",
      "nothing to commit, working tree clean\n"
     ]
    }
   ],
   "source": [
    "!git commit -m \"Update\"  "
   ]
  },
  {
   "cell_type": "code",
   "execution_count": 9,
   "id": "e7934bd2-9068-4be1-9d72-8b537a9190dc",
   "metadata": {},
   "outputs": [
    {
     "name": "stderr",
     "output_type": "stream",
     "text": [
      "To https://github.com/hunterlecour/U.S.-Used-Car-Market-Analysis.git\n",
      "   ee2beb4..6482d7d  main -> main\n"
     ]
    }
   ],
   "source": [
    "!git push "
   ]
  },
  {
   "cell_type": "code",
   "execution_count": null,
   "id": "08575488-afaf-4a71-8175-9a8045386f7d",
   "metadata": {},
   "outputs": [],
   "source": []
  }
 ],
 "metadata": {
  "kernelspec": {
   "display_name": "Python 3 (ipykernel)",
   "language": "python",
   "name": "python3"
  },
  "language_info": {
   "codemirror_mode": {
    "name": "ipython",
    "version": 3
   },
   "file_extension": ".py",
   "mimetype": "text/x-python",
   "name": "python",
   "nbconvert_exporter": "python",
   "pygments_lexer": "ipython3",
   "version": "3.11.0"
  }
 },
 "nbformat": 4,
 "nbformat_minor": 5
}
